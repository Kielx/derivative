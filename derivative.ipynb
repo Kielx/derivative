{
 "cells": [
  {
   "cell_type": "markdown",
   "source": [
    "## Import Bibliotek"
   ],
   "metadata": {
    "collapsed": false
   }
  },
  {
   "cell_type": "code",
   "execution_count": 11,
   "outputs": [],
   "source": [
    "import numpy as np"
   ],
   "metadata": {
    "collapsed": false,
    "ExecuteTime": {
     "start_time": "2023-04-27T13:50:30.413065Z",
     "end_time": "2023-04-27T13:50:30.448725Z"
    }
   }
  },
  {
   "cell_type": "markdown",
   "source": [
    "## Wczytanie danych"
   ],
   "metadata": {
    "collapsed": false
   }
  },
  {
   "cell_type": "code",
   "execution_count": 12,
   "outputs": [
    {
     "name": "stdout",
     "output_type": "stream",
     "text": [
      "Dane wejściowe:\n",
      "[[-2.5  16.5 ]\n",
      " [-2.   19.  ]\n",
      " [-1.5  17.65]\n",
      " [-1.   13.8 ]\n",
      " [-0.5   8.8 ]\n",
      " [ 0.    4.  ]\n",
      " [ 0.5   0.75]]\n"
     ]
    }
   ],
   "source": [
    "nazwa_pliku = 'input.txt'\n",
    "\n",
    "# Funkcja, która zastępuje przecinki jako separator dziesiętny na kropki - w celu poprawnego wczytania danych za\n",
    "# pomocą np.loadtxt\n",
    "def replace_commas_with_periods(filename):\n",
    "    with open(filename, 'r') as file:\n",
    "        contents = file.read()\n",
    "        new_contents = contents.replace(',', '.')\n",
    "    with open(filename, 'w') as file:\n",
    "        file.write(new_contents)\n",
    "\n",
    "replace_commas_with_periods(nazwa_pliku)\n",
    "coords = np.loadtxt('./' + nazwa_pliku, delimiter=' ')\n",
    "print(\"Dane wejściowe:\")\n",
    "print(coords)"
   ],
   "metadata": {
    "collapsed": false,
    "ExecuteTime": {
     "start_time": "2023-04-27T13:50:30.420067Z",
     "end_time": "2023-04-27T13:50:30.476722Z"
    }
   }
  },
  {
   "cell_type": "markdown",
   "source": [
    "## Przypisanie danych do zmiennych"
   ],
   "metadata": {
    "collapsed": false
   }
  },
  {
   "cell_type": "code",
   "execution_count": 13,
   "outputs": [],
   "source": [
    "xi = coords[:, 0]\n",
    "fx = coords[:, 1]"
   ],
   "metadata": {
    "collapsed": false,
    "ExecuteTime": {
     "start_time": "2023-04-27T13:50:30.434726Z",
     "end_time": "2023-04-27T13:50:30.477723Z"
    }
   }
  },
  {
   "cell_type": "markdown",
   "source": [
    "## Funkcja która oblicza wartość następnej kolumny na podstawie danych z poprzedniej"
   ],
   "metadata": {
    "collapsed": false
   }
  },
  {
   "cell_type": "code",
   "execution_count": 14,
   "outputs": [
    {
     "name": "stdout",
     "output_type": "stream",
     "text": [
      "Sprawdzenie poprawności działania funkcji:\n",
      "[ 2.5  -1.35 -3.85 -5.   -4.8  -3.25]\n"
     ]
    }
   ],
   "source": [
    "def get_next_column(fx: np.ndarray):\n",
    "   next_column = np.array([])\n",
    "   last_f = fx[-1]\n",
    "   for index, f in np.ndenumerate(fx):\n",
    "    if f != last_f:\n",
    "        next_column = np.append(next_column, round((fx[index[0]+1] - f), 2))\n",
    "   return next_column\n",
    "print(\"Sprawdzenie poprawności działania funkcji:\")\n",
    "print(get_next_column(fx))"
   ],
   "metadata": {
    "collapsed": false,
    "ExecuteTime": {
     "start_time": "2023-04-27T13:50:30.450723Z",
     "end_time": "2023-04-27T13:50:30.478723Z"
    }
   }
  },
  {
   "cell_type": "markdown",
   "source": [
    "## Funkcja która oblicza kolejne kolumny w tabeli"
   ],
   "metadata": {
    "collapsed": false
   }
  },
  {
   "cell_type": "code",
   "execution_count": 15,
   "outputs": [],
   "source": [
    "columns = []\n",
    "\n",
    "def calculate_cols(column: np.ndarray):\n",
    "    global columns\n",
    "    col = get_next_column(column)\n",
    "    columns.append(col)\n",
    "    if len(np.unique(col)) != 1:\n",
    "        calculate_cols(col)\n",
    "    else:\n",
    "        return\n",
    "\n",
    "calculate_cols(fx)"
   ],
   "metadata": {
    "collapsed": false,
    "ExecuteTime": {
     "start_time": "2023-04-27T13:50:30.465724Z",
     "end_time": "2023-04-27T13:50:30.485724Z"
    }
   }
  },
  {
   "cell_type": "markdown",
   "source": [
    "## Wyświetlenie wyników"
   ],
   "metadata": {
    "collapsed": false
   }
  },
  {
   "cell_type": "code",
   "execution_count": 16,
   "outputs": [
    {
     "name": "stdout",
     "output_type": "stream",
     "text": [
      "Column 1: [ 2.5  -1.35 -3.85 -5.   -4.8  -3.25]\n",
      "Column 2: [-3.85 -2.5  -1.15  0.2   1.55]\n",
      "Column 3: [1.35 1.35 1.35 1.35]\n"
     ]
    }
   ],
   "source": [
    "for i in range(len(columns)):\n",
    "    print(f'Column {i+1}: {columns[i]}')"
   ],
   "metadata": {
    "collapsed": false,
    "ExecuteTime": {
     "start_time": "2023-04-27T13:50:30.480723Z",
     "end_time": "2023-04-27T13:50:30.495724Z"
    }
   }
  },
  {
   "cell_type": "code",
   "execution_count": 17,
   "outputs": [
    {
     "name": "stdout",
     "output_type": "stream",
     "text": [
      "-5.0\n",
      "0.2\n",
      "1.35\n"
     ]
    }
   ],
   "source": [
    "for column in columns:\n",
    "    print(column[3])"
   ],
   "metadata": {
    "collapsed": false,
    "ExecuteTime": {
     "start_time": "2023-04-27T13:50:30.495724Z",
     "end_time": "2023-04-27T13:50:30.555901Z"
    }
   }
  },
  {
   "cell_type": "code",
   "execution_count": 17,
   "outputs": [],
   "source": [],
   "metadata": {
    "collapsed": false,
    "ExecuteTime": {
     "start_time": "2023-04-27T13:50:30.511724Z",
     "end_time": "2023-04-27T13:50:30.561902Z"
    }
   }
  }
 ],
 "metadata": {
  "kernelspec": {
   "display_name": "Python 3",
   "language": "python",
   "name": "python3"
  },
  "language_info": {
   "codemirror_mode": {
    "name": "ipython",
    "version": 2
   },
   "file_extension": ".py",
   "mimetype": "text/x-python",
   "name": "python",
   "nbconvert_exporter": "python",
   "pygments_lexer": "ipython2",
   "version": "2.7.6"
  }
 },
 "nbformat": 4,
 "nbformat_minor": 0
}
