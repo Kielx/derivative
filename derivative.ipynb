{
 "cells": [
  {
   "cell_type": "markdown",
   "source": [
    "## Import Bibliotek"
   ],
   "metadata": {
    "collapsed": false
   }
  },
  {
   "cell_type": "code",
   "execution_count": 91,
   "outputs": [],
   "source": [
    "import numpy as np"
   ],
   "metadata": {
    "collapsed": false,
    "ExecuteTime": {
     "start_time": "2023-04-28T14:49:08.604601Z",
     "end_time": "2023-04-28T14:49:08.634456Z"
    }
   }
  },
  {
   "cell_type": "markdown",
   "source": [
    "## Wczytanie danych"
   ],
   "metadata": {
    "collapsed": false
   }
  },
  {
   "cell_type": "code",
   "execution_count": 92,
   "outputs": [
    {
     "name": "stdout",
     "output_type": "stream",
     "text": [
      "Dane wejściowe:\n",
      "   x,   f(x)\n",
      "[[-2.5  16.5 ]\n",
      " [-2.   19.  ]\n",
      " [-1.5  17.65]\n",
      " [-1.   13.8 ]\n",
      " [-0.5   8.8 ]\n",
      " [ 0.    4.  ]\n",
      " [ 0.5   0.75]]\n"
     ]
    }
   ],
   "source": [
    "nazwa_pliku = 'input.txt'\n",
    "\n",
    "# Funkcja, która zastępuje przecinki jako separator dziesiętny na kropki - w celu poprawnego wczytania danych za\n",
    "# pomocą np.loadtxt\n",
    "def replace_commas_with_periods(filename):\n",
    "    with open(filename, 'r') as file:\n",
    "        contents = file.read()\n",
    "        new_contents = contents.replace(',', '.')\n",
    "    with open(filename, 'w') as file:\n",
    "        file.write(new_contents)\n",
    "\n",
    "replace_commas_with_periods(nazwa_pliku)\n",
    "coords = np.loadtxt('./' + nazwa_pliku, delimiter=' ')\n",
    "print(\"Dane wejściowe:\")\n",
    "print(\"   x,   f(x)\")\n",
    "print(coords)"
   ],
   "metadata": {
    "collapsed": false,
    "ExecuteTime": {
     "start_time": "2023-04-28T14:49:08.620450Z",
     "end_time": "2023-04-28T14:49:08.681261Z"
    }
   }
  },
  {
   "cell_type": "markdown",
   "source": [
    "## Przypisanie danych do zmiennych"
   ],
   "metadata": {
    "collapsed": false
   }
  },
  {
   "cell_type": "code",
   "execution_count": 93,
   "outputs": [],
   "source": [
    "xi = coords[:, 0]\n",
    "fx = coords[:, 1]\n",
    "h = 0.5 # Odległośc między mierzonymi punktami"
   ],
   "metadata": {
    "collapsed": false,
    "ExecuteTime": {
     "start_time": "2023-04-28T14:49:08.637452Z",
     "end_time": "2023-04-28T14:49:08.686269Z"
    }
   }
  },
  {
   "cell_type": "markdown",
   "source": [
    "## Metoda Różnic zwykłych"
   ],
   "metadata": {
    "collapsed": false
   }
  },
  {
   "cell_type": "markdown",
   "source": [
    "### Funkcja która oblicza wartość następnej kolumny na podstawie danych z poprzedniej\n",
    "\n",
    "W każdej kolejnej kolumnie oznaczonej jako delta f(x) obliczamy różnicę między kolejnymi wartościami z poprzedniej kolumny.\n",
    "Funkcja poniżej zwraca numpy array z wartościami kolejnej kolumny.\n",
    "\n",
    "![alt text](./assets/images/1.png \"Title\")"
   ],
   "metadata": {
    "collapsed": false
   }
  },
  {
   "cell_type": "code",
   "execution_count": 94,
   "outputs": [
    {
     "name": "stdout",
     "output_type": "stream",
     "text": [
      "Sprawdzenie poprawności działania funkcji:\n",
      "[ 2.5  -1.35 -3.85 -5.   -4.8  -3.25]\n"
     ]
    }
   ],
   "source": [
    "def get_next_column(base_column: np.ndarray):\n",
    "   next_column = np.array([])\n",
    "   # Nie chcemy obliczać różnicy między ostatnią wartością a wartością o jeden większą, ponieważ nie ma takiej wartości\n",
    "   last_f = base_column[-1]\n",
    "   for index, f in np.ndenumerate(base_column):\n",
    "    if f != last_f:\n",
    "        next_column = np.append(next_column, round((base_column[index[0] + 1] - f), 2))\n",
    "   return next_column\n",
    "print(\"Sprawdzenie poprawności działania funkcji:\")\n",
    "print(get_next_column(fx))"
   ],
   "metadata": {
    "collapsed": false,
    "ExecuteTime": {
     "start_time": "2023-04-28T14:49:08.654453Z",
     "end_time": "2023-04-28T14:49:08.687269Z"
    }
   }
  },
  {
   "cell_type": "markdown",
   "source": [
    "### Funkcja która oblicza wszystkie kolumny w tabeli\n",
    "\n",
    "Na podstawie poprzedniej funkcji, możemy obliczyć kolejne kolumny w tabeli różnic zwykłych.\n",
    "Funkcja będzie uruchamiać się rekurencyjnie, aż do momentu, kiedy wszystkie wartości w kolumnie będą takie same.\n",
    "Następnie zwróci listę z wszystkimi kolumnami."
   ],
   "metadata": {
    "collapsed": false
   }
  },
  {
   "cell_type": "code",
   "execution_count": 95,
   "outputs": [
    {
     "name": "stdout",
     "output_type": "stream",
     "text": [
      "Column 1: [ 2.5  -1.35 -3.85 -5.   -4.8  -3.25]\n",
      "Column 2: [-3.85 -2.5  -1.15  0.2   1.55]\n",
      "Column 3: [1.35 1.35 1.35 1.35]\n"
     ]
    }
   ],
   "source": [
    "def calculate_cols(column: np.ndarray, columns: list = []) -> list:\n",
    "    col = get_next_column(column)\n",
    "    columns.append(col)\n",
    "    if len(np.unique(col)) != 1:\n",
    "        calculate_cols(col, columns)\n",
    "    return columns\n",
    "\n",
    "columns = calculate_cols(fx)\n",
    "# Sprawdzenie poprawności działania funkcji\n",
    "for i in range(len(columns)):\n",
    "    print(f'Column {i+1}: {columns[i]}')"
   ],
   "metadata": {
    "collapsed": false,
    "ExecuteTime": {
     "start_time": "2023-04-28T14:49:08.667454Z",
     "end_time": "2023-04-28T14:49:08.687269Z"
    }
   }
  },
  {
   "cell_type": "markdown",
   "source": [
    "### Funkcja która oblicza pochodną w punkcie metodą różnicy zwykłej"
   ],
   "metadata": {
    "collapsed": false
   }
  },
  {
   "cell_type": "code",
   "execution_count": 96,
   "outputs": [
    {
     "name": "stdout",
     "output_type": "stream",
     "text": [
      "Pochodna w punkcie -2.5:  9.75\n",
      "Pochodna w punkcie -2.0:  0.6999999999999998\n",
      "Pochodna w punkcie -1.5:  -5.65\n",
      "Pochodna w punkcie -1.0:  -9.299999999999999\n",
      "Pochodna w punkcie -0.5:  -11.15\n",
      "Pochodna w punkcie 0.0:  -6.5\n",
      "Pochodna w punkcie 0.5:  0.0\n"
     ]
    }
   ],
   "source": [
    "def calculate_derivative_at_point(columns: list, x: int):\n",
    "    # W funkcji podajemy wartość x dla jakiej będziemy obliczać pochodną, w funkcji skorzystać musimy z indeksu tejże wartości\n",
    "    index_of_value_x = np.where(xi == x)[0]\n",
    "    point_fs = []\n",
    "    for column in columns:\n",
    "        try:\n",
    "            point_fs.append(column[index_of_value_x])\n",
    "        except IndexError:\n",
    "            pass\n",
    "            # print(\"No element at index: \", x)\n",
    "\n",
    "    for index, delta_f in enumerate(point_fs):\n",
    "        skladnik = 1/(index+1) * delta_f\n",
    "        skladnik = skladnik if index % 2 == 0 else -skladnik\n",
    "        point_fs[index] = skladnik\n",
    "\n",
    "    point_fs = np.array(point_fs)\n",
    "    return (1/h * point_fs.sum())\n",
    "\n",
    "for x in xi:\n",
    "    print(f'Pochodna w punkcie {x}: ', calculate_derivative_at_point(columns, x))"
   ],
   "metadata": {
    "collapsed": false,
    "ExecuteTime": {
     "start_time": "2023-04-28T14:49:08.713729Z",
     "end_time": "2023-04-28T14:49:08.752729Z"
    }
   }
  },
  {
   "cell_type": "markdown",
   "source": [
    "# Metoda różnicy wstecznej\n",
    "\n",
    "W każdej kolejnej kolumnie oznaczonej jako delta f(x) obliczamy różnicę między kolejnymi wartościami z poprzedniej kolumny.\n",
    "Funkcja poniżej zwraca numpy array z wartościami kolejnej kolumny.\n",
    "![alt text](./assets/images/2.png \"Title\")"
   ],
   "metadata": {
    "collapsed": false
   }
  },
  {
   "cell_type": "code",
   "execution_count": 97,
   "outputs": [
    {
     "name": "stdout",
     "output_type": "stream",
     "text": [
      "Sprawdzenie poprawności działania funkcji:\n",
      "[-3.25 -4.8  -5.   -3.85 -1.35  2.5 ]\n"
     ]
    }
   ],
   "source": [
    "fx_reverse = np.flip(fx)\n",
    "\n",
    "def get_next_column_reverse(base_column: np.ndarray):\n",
    "   next_column = np.array([])\n",
    "   # Nie chcemy obliczać różnicy między ostatnią wartością a wartością o jeden większą, ponieważ nie ma takiej wartości\n",
    "   first_f = base_column[-1]\n",
    "   for index, f in np.ndenumerate(base_column):\n",
    "    if f != first_f:\n",
    "        next_column = np.append(next_column, round((f - base_column[index[0] + 1]), 2))\n",
    "   return next_column\n",
    "print(\"Sprawdzenie poprawności działania funkcji:\")\n",
    "print(get_next_column_reverse(fx_reverse))"
   ],
   "metadata": {
    "collapsed": false,
    "ExecuteTime": {
     "start_time": "2023-04-28T14:49:08.776887Z",
     "end_time": "2023-04-28T14:49:08.796887Z"
    }
   }
  },
  {
   "cell_type": "markdown",
   "source": [
    "### Funkcja która oblicza wszystkie kolumny w tabeli\n",
    "\n",
    "Na podstawie poprzedniej funkcji, możemy obliczyć kolejne kolumny w tabeli różnic zwykłych.\n",
    "Funkcja będzie uruchamiać się rekurencyjnie, aż do momentu, kiedy wszystkie wartości w kolumnie będą takie same.\n",
    "Następnie zwróci listę z wszystkimi kolumnami."
   ],
   "metadata": {
    "collapsed": false
   }
  },
  {
   "cell_type": "code",
   "execution_count": 98,
   "outputs": [
    {
     "name": "stdout",
     "output_type": "stream",
     "text": [
      "Column 1: [-3.25 -4.8  -5.   -3.85 -1.35  2.5 ]\n",
      "Column 2: [ 1.55  0.2  -1.15 -2.5  -3.85]\n",
      "Column 3: [1.35 1.35 1.35 1.35]\n"
     ]
    }
   ],
   "source": [
    "def calculate_cols_reverse(column: np.ndarray, columns: list = []) -> list:\n",
    "    col = get_next_column_reverse(column)\n",
    "    columns.append(col)\n",
    "    if len(np.unique(col)) != 1:\n",
    "        calculate_cols_reverse(col, columns)\n",
    "    return columns\n",
    "\n",
    "columns_reverse = calculate_cols_reverse(fx_reverse)\n",
    "# Sprawdzenie poprawności działania funkcji\n",
    "for i in range(len(columns_reverse)):\n",
    "    print(f'Column {i+1}: {columns_reverse[i]}')"
   ],
   "metadata": {
    "collapsed": false,
    "ExecuteTime": {
     "start_time": "2023-04-28T14:49:08.791887Z",
     "end_time": "2023-04-28T14:49:08.806887Z"
    }
   }
  },
  {
   "cell_type": "markdown",
   "source": [
    "### Funkcja która oblicza pochodną w danym punkcie metodą różnicy wstecznej"
   ],
   "metadata": {
    "collapsed": false
   }
  },
  {
   "cell_type": "code",
   "execution_count": 99,
   "outputs": [
    {
     "name": "stdout",
     "output_type": "stream",
     "text": [
      "Pochodna w punkcie -2.5:  0.0\n",
      "Pochodna w punkcie -2.0:  5.0\n",
      "Pochodna w punkcie -1.5:  -6.550000000000001\n",
      "Pochodna w punkcie -1.0:  -9.299999999999999\n",
      "Pochodna w punkcie -0.5:  -10.25\n",
      "Pochodna w punkcie 0.0:  -8.5\n",
      "Pochodna w punkcie 0.5:  -4.05\n"
     ]
    }
   ],
   "source": [
    "def calculate_derivative_at_point_reverse(columns: list, x: int):\n",
    "    # W funkcji podajemy wartość x dla jakiej będziemy obliczać pochodną, w funkcji skorzystać musimy z indeksu tejże wartości\n",
    "    xi_reversed = np.flip(xi)\n",
    "    index_of_value_x = np.where(xi_reversed == x)[0]\n",
    "    point_fs = []\n",
    "    for column in columns:\n",
    "        try:\n",
    "            point_fs.append(column[index_of_value_x])\n",
    "        except IndexError:\n",
    "            pass\n",
    "            # print(\"No element at index: \", x)\n",
    "\n",
    "    for index, delta_f in enumerate(point_fs):\n",
    "        skladnik = 1/(index+1) * delta_f\n",
    "        point_fs[index] = skladnik\n",
    "\n",
    "    point_fs = np.array(point_fs)\n",
    "    return (1/h * point_fs.sum())\n",
    "\n",
    "for x in xi:\n",
    "    print(f'Pochodna w punkcie {x}: ', calculate_derivative_at_point_reverse(columns_reverse, x))"
   ],
   "metadata": {
    "collapsed": false,
    "ExecuteTime": {
     "start_time": "2023-04-28T14:49:08.823891Z",
     "end_time": "2023-04-28T14:49:08.858891Z"
    }
   }
  },
  {
   "cell_type": "markdown",
   "source": [
    "# Metoda róznicy centralnej"
   ],
   "metadata": {
    "collapsed": false
   }
  },
  {
   "cell_type": "code",
   "execution_count": 100,
   "outputs": [],
   "source": [
    "def calculate_central_x(xi: np.ndarray):\n",
    "    global h\n",
    "    new_arr = []\n",
    "    for x in xi:\n",
    "        new_arr.append(x)\n",
    "        new_arr.append(x + 1/2 * h)\n",
    "    new_arr = np.delete(new_arr, -1)\n",
    "    return new_arr\n",
    "\n",
    "central_x = calculate_central_x(xi)\n",
    "\n",
    "def create_column_with_empty_values_between(fx: np.ndarray):\n",
    "    nan_array = np.full(len(fx),np.nan)\n",
    "    calculated_array = np.array([])\n",
    "    for element in zip(fx, nan_array):\n",
    "        calculated_array = np.append(calculated_array, element)\n",
    "    calculated_array = np.delete(calculated_array, -1)\n",
    "    return calculated_array\n",
    "\n",
    "def calculate_columns_central(columns: np.ndarray):\n",
    "    columns_with_empty_values = []\n",
    "    for index, col in enumerate(columns):\n",
    "        c = create_column_with_empty_values_between(col)\n",
    "        for i in range(index+1):\n",
    "            c = np.append(c, np.nan)\n",
    "            c = np.insert(c, 0, np.nan)\n",
    "        columns_with_empty_values.append(c)\n",
    "    return columns_with_empty_values\n",
    "\n",
    "# print(create_column_with_empty_values_between(fx))\n",
    "# print(calculate_columns_central(columns))\n",
    "\n",
    "central_columns = np.vstack([create_column_with_empty_values_between(fx), calculate_columns_central(columns)])\n",
    "\n",
    "#central_columns = np.flip(central_columns, axis=1)\n",
    "\n",
    "\n"
   ],
   "metadata": {
    "collapsed": false
   }
  },
  {
   "cell_type": "markdown",
   "source": [
    "# DO POPRAWY"
   ],
   "metadata": {
    "collapsed": false
   }
  },
  {
   "cell_type": "code",
   "execution_count": 101,
   "outputs": [
    {
     "name": "stdout",
     "output_type": "stream",
     "text": [
      "-1.5\n",
      "[-2.6, 1.35]\n",
      "-5.65\n"
     ]
    }
   ],
   "source": [
    "wybrany_punkt = 4\n",
    "print(central_x[wybrany_punkt])\n",
    "new_sum = []\n",
    "wstawki = [1/1, -1/6, 1/30]\n",
    "for index, col in enumerate(central_columns):\n",
    "    if np.isnan(col[wybrany_punkt]):\n",
    "        df = (col[wybrany_punkt-1] + col[wybrany_punkt+1])/2\n",
    "        new_sum.append(df)\n",
    "\n",
    "print(new_sum)\n",
    "try:\n",
    "    for index, wstawka in enumerate(wstawki):\n",
    "        new_sum[index] = new_sum[index] * wstawka\n",
    "except IndexError:\n",
    "    pass\n",
    "new_sum = (1/h) * np.array(new_sum).sum()\n",
    "print(new_sum)"
   ],
   "metadata": {
    "collapsed": false
   }
  }
 ],
 "metadata": {
  "kernelspec": {
   "display_name": "Python 3",
   "language": "python",
   "name": "python3"
  },
  "language_info": {
   "codemirror_mode": {
    "name": "ipython",
    "version": 2
   },
   "file_extension": ".py",
   "mimetype": "text/x-python",
   "name": "python",
   "nbconvert_exporter": "python",
   "pygments_lexer": "ipython2",
   "version": "2.7.6"
  }
 },
 "nbformat": 4,
 "nbformat_minor": 0
}
