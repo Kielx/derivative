{
 "cells": [
  {
   "cell_type": "markdown",
   "source": [
    "## Import Bibliotek"
   ],
   "metadata": {
    "collapsed": false
   }
  },
  {
   "cell_type": "code",
   "execution_count": 476,
   "outputs": [],
   "source": [
    "import numpy as np"
   ],
   "metadata": {
    "collapsed": false,
    "ExecuteTime": {
     "start_time": "2023-04-28T11:29:56.509060Z",
     "end_time": "2023-04-28T11:29:56.528120Z"
    }
   }
  },
  {
   "cell_type": "markdown",
   "source": [
    "## Wczytanie danych"
   ],
   "metadata": {
    "collapsed": false
   }
  },
  {
   "cell_type": "code",
   "execution_count": 477,
   "outputs": [
    {
     "name": "stdout",
     "output_type": "stream",
     "text": [
      "Dane wejściowe:\n",
      "[[-2.5  16.5 ]\n",
      " [-2.   19.  ]\n",
      " [-1.5  17.65]\n",
      " [-1.   13.8 ]\n",
      " [-0.5   8.8 ]\n",
      " [ 0.    4.  ]\n",
      " [ 0.5   0.75]]\n"
     ]
    }
   ],
   "source": [
    "nazwa_pliku = 'input.txt'\n",
    "\n",
    "# Funkcja, która zastępuje przecinki jako separator dziesiętny na kropki - w celu poprawnego wczytania danych za\n",
    "# pomocą np.loadtxt\n",
    "def replace_commas_with_periods(filename):\n",
    "    with open(filename, 'r') as file:\n",
    "        contents = file.read()\n",
    "        new_contents = contents.replace(',', '.')\n",
    "    with open(filename, 'w') as file:\n",
    "        file.write(new_contents)\n",
    "\n",
    "replace_commas_with_periods(nazwa_pliku)\n",
    "coords = np.loadtxt('./' + nazwa_pliku, delimiter=' ')\n",
    "print(\"Dane wejściowe:\")\n",
    "print(coords)"
   ],
   "metadata": {
    "collapsed": false,
    "ExecuteTime": {
     "start_time": "2023-04-28T11:29:56.514061Z",
     "end_time": "2023-04-28T11:29:56.573736Z"
    }
   }
  },
  {
   "cell_type": "markdown",
   "source": [
    "## Przypisanie danych do zmiennych"
   ],
   "metadata": {
    "collapsed": false
   }
  },
  {
   "cell_type": "code",
   "execution_count": 478,
   "outputs": [],
   "source": [
    "xi = coords[:, 0]\n",
    "fx = coords[:, 1]"
   ],
   "metadata": {
    "collapsed": false,
    "ExecuteTime": {
     "start_time": "2023-04-28T11:29:56.532390Z",
     "end_time": "2023-04-28T11:29:56.589174Z"
    }
   }
  },
  {
   "cell_type": "markdown",
   "source": [
    "## Funkcja która oblicza wartość następnej kolumny na podstawie danych z poprzedniej"
   ],
   "metadata": {
    "collapsed": false
   }
  },
  {
   "cell_type": "code",
   "execution_count": 479,
   "outputs": [
    {
     "name": "stdout",
     "output_type": "stream",
     "text": [
      "Sprawdzenie poprawności działania funkcji:\n",
      "[ 2.5  -1.35 -3.85 -5.   -4.8  -3.25]\n"
     ]
    }
   ],
   "source": [
    "def get_next_column(fx: np.ndarray):\n",
    "   next_column = np.array([])\n",
    "   last_f = fx[-1]\n",
    "   for index, f in np.ndenumerate(fx):\n",
    "    if f != last_f:\n",
    "        next_column = np.append(next_column, round((fx[index[0]+1] - f), 2))\n",
    "   return next_column\n",
    "print(\"Sprawdzenie poprawności działania funkcji:\")\n",
    "print(get_next_column(fx))"
   ],
   "metadata": {
    "collapsed": false,
    "ExecuteTime": {
     "start_time": "2023-04-28T11:29:56.545395Z",
     "end_time": "2023-04-28T11:29:56.596170Z"
    }
   }
  },
  {
   "cell_type": "markdown",
   "source": [
    "## Funkcja która oblicza kolejne kolumny w tabeli"
   ],
   "metadata": {
    "collapsed": false
   }
  },
  {
   "cell_type": "code",
   "execution_count": 480,
   "outputs": [
    {
     "name": "stdout",
     "output_type": "stream",
     "text": [
      "[array([ 2.5 , -1.35, -3.85, -5.  , -4.8 , -3.25]), array([-3.85, -2.5 , -1.15,  0.2 ,  1.55]), array([1.35, 1.35, 1.35, 1.35])]\n"
     ]
    }
   ],
   "source": [
    "columns = []\n",
    "\n",
    "def calculate_cols(column: np.ndarray):\n",
    "    global columns\n",
    "    col = get_next_column(column)\n",
    "    columns.append(col)\n",
    "    if len(np.unique(col)) != 1:\n",
    "        calculate_cols(col)\n",
    "    else:\n",
    "        return\n",
    "\n",
    "calculate_cols(fx)\n",
    "print(columns)"
   ],
   "metadata": {
    "collapsed": false,
    "ExecuteTime": {
     "start_time": "2023-04-28T11:29:56.560593Z",
     "end_time": "2023-04-28T11:29:56.596170Z"
    }
   }
  },
  {
   "cell_type": "markdown",
   "source": [
    "## Wyświetlenie wyników"
   ],
   "metadata": {
    "collapsed": false
   }
  },
  {
   "cell_type": "code",
   "execution_count": 481,
   "outputs": [
    {
     "name": "stdout",
     "output_type": "stream",
     "text": [
      "Column 1: [ 2.5  -1.35 -3.85 -5.   -4.8  -3.25]\n",
      "Column 2: [-3.85 -2.5  -1.15  0.2   1.55]\n",
      "Column 3: [1.35 1.35 1.35 1.35]\n"
     ]
    }
   ],
   "source": [
    "for i in range(len(columns)):\n",
    "    print(f'Column {i+1}: {columns[i]}')"
   ],
   "metadata": {
    "collapsed": false,
    "ExecuteTime": {
     "start_time": "2023-04-28T11:29:56.576740Z",
     "end_time": "2023-04-28T11:29:56.596170Z"
    }
   }
  },
  {
   "cell_type": "code",
   "execution_count": 482,
   "outputs": [
    {
     "name": "stdout",
     "output_type": "stream",
     "text": [
      "-5.0\n",
      "0.2\n",
      "1.35\n"
     ]
    }
   ],
   "source": [
    "for column in columns:\n",
    "    print(column[3])"
   ],
   "metadata": {
    "collapsed": false,
    "ExecuteTime": {
     "start_time": "2023-04-28T11:29:56.591168Z",
     "end_time": "2023-04-28T11:29:56.653168Z"
    }
   }
  },
  {
   "cell_type": "code",
   "execution_count": 483,
   "outputs": [
    {
     "name": "stdout",
     "output_type": "stream",
     "text": [
      "2.5\n",
      "-3.85\n",
      "1.35\n",
      "[2.5, 1.925, 0.45]\n",
      "9.75\n"
     ]
    }
   ],
   "source": [
    "point4_fs = []\n",
    "for column in columns:\n",
    "    try:\n",
    "        print(column[0])\n",
    "        point4_fs.append(column[0])\n",
    "    except IndexError:\n",
    "        print(\"Nie ma 4 elementu w kolumnie\")\n",
    "\n",
    "h = 0.5\n",
    "\n",
    "skladniki = []\n",
    "\n",
    "for index, delta_f in enumerate(point4_fs):\n",
    "    skladnik = 1/(index+1) * delta_f\n",
    "    skladnik = skladnik if index % 2 == 0 else -skladnik\n",
    "    skladniki.append(skladnik)\n",
    "\n",
    "print(skladniki)\n",
    "numpy_skladniki = np.array(skladniki)\n",
    "print(1/h * numpy_skladniki.sum() )"
   ],
   "metadata": {
    "collapsed": false,
    "ExecuteTime": {
     "start_time": "2023-04-28T11:29:56.608173Z",
     "end_time": "2023-04-28T11:29:56.659169Z"
    }
   }
  },
  {
   "cell_type": "markdown",
   "source": [
    "# Metoda róznicy centralnej"
   ],
   "metadata": {
    "collapsed": false
   }
  },
  {
   "cell_type": "code",
   "execution_count": 484,
   "outputs": [],
   "source": [
    "def calculate_central_x(xi: np.ndarray):\n",
    "    global h\n",
    "    new_arr = []\n",
    "    for x in xi:\n",
    "        new_arr.append(x)\n",
    "        new_arr.append(x + 1/2 * h)\n",
    "    new_arr = np.delete(new_arr, -1)\n",
    "    return new_arr\n",
    "\n",
    "central_x = calculate_central_x(xi)\n",
    "\n",
    "def create_column_with_empty_values_between(fx: np.ndarray):\n",
    "    nan_array = np.full(len(fx),np.nan)\n",
    "    calculated_array = np.array([])\n",
    "    for element in zip(fx, nan_array):\n",
    "        calculated_array = np.append(calculated_array, element)\n",
    "    calculated_array = np.delete(calculated_array, -1)\n",
    "    return calculated_array\n",
    "\n",
    "def calculate_columns_central(columns: np.ndarray):\n",
    "    columns_with_empty_values = []\n",
    "    for index, col in enumerate(columns):\n",
    "        c = create_column_with_empty_values_between(col)\n",
    "        for i in range(index+1):\n",
    "            c = np.append(c, np.nan)\n",
    "            c = np.insert(c, 0, np.nan)\n",
    "        columns_with_empty_values.append(c)\n",
    "    return columns_with_empty_values\n",
    "\n",
    "# print(create_column_with_empty_values_between(fx))\n",
    "# print(calculate_columns_central(columns))\n",
    "\n",
    "central_columns = np.vstack([create_column_with_empty_values_between(fx), calculate_columns_central(columns)])\n",
    "\n",
    "#central_columns = np.flip(central_columns, axis=1)\n",
    "\n",
    "\n"
   ],
   "metadata": {
    "collapsed": false,
    "ExecuteTime": {
     "start_time": "2023-04-28T11:29:56.626169Z",
     "end_time": "2023-04-28T11:29:56.659169Z"
    }
   }
  },
  {
   "cell_type": "markdown",
   "source": [
    "# DO POPRAWY"
   ],
   "metadata": {
    "collapsed": false
   }
  },
  {
   "cell_type": "code",
   "execution_count": 501,
   "outputs": [
    {
     "name": "stdout",
     "output_type": "stream",
     "text": [
      "-1.0\n",
      "-6.1499999999999995\n"
     ]
    }
   ],
   "source": [
    "wybrany_punkt = 6\n",
    "print(central_x[wybrany_punkt])\n",
    "new_sum = []\n",
    "for index, col in enumerate(central_columns):\n",
    "    if np.isnan(col[wybrany_punkt]):\n",
    "        new_sum.append(((col[wybrany_punkt-1] + col[wybrany_punkt+1]) / 2) * 1/(index*))\n",
    "\n",
    "new_sum = 1/h * np.array(new_sum).sum()\n",
    "print(new_sum)"
   ],
   "metadata": {
    "collapsed": false,
    "ExecuteTime": {
     "start_time": "2023-04-28T12:26:12.607696Z",
     "end_time": "2023-04-28T12:26:12.613918Z"
    }
   }
  },
  {
   "cell_type": "code",
   "execution_count": 485,
   "outputs": [],
   "source": [],
   "metadata": {
    "collapsed": false,
    "ExecuteTime": {
     "start_time": "2023-04-28T11:29:56.655170Z",
     "end_time": "2023-04-28T11:29:56.670169Z"
    }
   }
  },
  {
   "cell_type": "markdown",
   "source": [
    "# Metoda róznicy wstecznej"
   ],
   "metadata": {
    "collapsed": false
   }
  },
  {
   "cell_type": "code",
   "execution_count": 486,
   "outputs": [
    {
     "name": "stdout",
     "output_type": "stream",
     "text": [
      "Sprawdzenie poprawności działania funkcji:\n",
      "[-3.25 -4.8  -5.   -3.85 -1.35  2.5 ]\n"
     ]
    }
   ],
   "source": [
    "fx = np.flip(fx)\n",
    "def get_next_column_reverse(fx: np.ndarray):\n",
    "   next_column = np.array([])\n",
    "   first_f = fx[-1]\n",
    "   for index, f in np.ndenumerate(fx):\n",
    "    if f != first_f:\n",
    "        next_column = np.append(next_column, round((f - fx[index[0]+1] ), 2))\n",
    "   return next_column\n",
    "print(\"Sprawdzenie poprawności działania funkcji:\")\n",
    "print(get_next_column_reverse(fx))"
   ],
   "metadata": {
    "collapsed": false,
    "ExecuteTime": {
     "start_time": "2023-04-28T11:29:56.671170Z",
     "end_time": "2023-04-28T11:29:56.715170Z"
    }
   }
  },
  {
   "cell_type": "code",
   "execution_count": 487,
   "outputs": [
    {
     "name": "stdout",
     "output_type": "stream",
     "text": [
      "[-3.25 -4.8  -5.   -3.85 -1.35  2.5 ]\n",
      "[ 1.55  0.2  -1.15 -2.5  -3.85]\n",
      "[1.35 1.35 1.35 1.35]\n"
     ]
    }
   ],
   "source": [
    "columns = []\n",
    "\n",
    "def calculate_cols_reverse(column: np.ndarray):\n",
    "    global columns\n",
    "    col = get_next_column_reverse(column)\n",
    "    print(col)\n",
    "    columns.append(col)\n",
    "    if len(np.unique(col)) != 1:\n",
    "        calculate_cols_reverse(col)\n",
    "    else:\n",
    "        return\n",
    "\n",
    "calculate_cols_reverse(fx)\n"
   ],
   "metadata": {
    "collapsed": false,
    "ExecuteTime": {
     "start_time": "2023-04-28T11:29:56.687170Z",
     "end_time": "2023-04-28T11:29:56.722172Z"
    }
   }
  },
  {
   "cell_type": "code",
   "execution_count": 488,
   "outputs": [
    {
     "name": "stdout",
     "output_type": "stream",
     "text": [
      "Column 1: [-3.25 -4.8  -5.   -3.85 -1.35  2.5 ]\n",
      "Column 2: [ 1.55  0.2  -1.15 -2.5  -3.85]\n",
      "Column 3: [1.35 1.35 1.35 1.35]\n"
     ]
    }
   ],
   "source": [
    "for i in range(len(columns)):\n",
    "    print(f'Column {i+1}: {columns[i]}')"
   ],
   "metadata": {
    "collapsed": false,
    "ExecuteTime": {
     "start_time": "2023-04-28T11:29:56.703170Z",
     "end_time": "2023-04-28T11:29:56.722172Z"
    }
   }
  },
  {
   "cell_type": "code",
   "execution_count": 489,
   "outputs": [
    {
     "name": "stdout",
     "output_type": "stream",
     "text": [
      "-3.85\n",
      "-2.5\n",
      "1.35\n"
     ]
    }
   ],
   "source": [
    "for column in columns:\n",
    "    print(column[3])"
   ],
   "metadata": {
    "collapsed": false,
    "ExecuteTime": {
     "start_time": "2023-04-28T11:29:56.718171Z",
     "end_time": "2023-04-28T11:29:56.733171Z"
    }
   }
  }
 ],
 "metadata": {
  "kernelspec": {
   "display_name": "Python 3",
   "language": "python",
   "name": "python3"
  },
  "language_info": {
   "codemirror_mode": {
    "name": "ipython",
    "version": 2
   },
   "file_extension": ".py",
   "mimetype": "text/x-python",
   "name": "python",
   "nbconvert_exporter": "python",
   "pygments_lexer": "ipython2",
   "version": "2.7.6"
  }
 },
 "nbformat": 4,
 "nbformat_minor": 0
}
