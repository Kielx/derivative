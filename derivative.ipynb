{
 "cells": [
  {
   "cell_type": "markdown",
   "source": [
    "## Import Bibliotek"
   ],
   "metadata": {
    "collapsed": false
   }
  },
  {
   "cell_type": "code",
   "execution_count": 94,
   "outputs": [],
   "source": [
    "import numpy as np"
   ],
   "metadata": {
    "collapsed": false,
    "ExecuteTime": {
     "start_time": "2023-04-28T14:49:08.604601Z",
     "end_time": "2023-04-28T14:49:08.634456Z"
    }
   }
  },
  {
   "cell_type": "markdown",
   "source": [
    "## Wczytanie danych"
   ],
   "metadata": {
    "collapsed": false
   }
  },
  {
   "cell_type": "code",
   "execution_count": 95,
   "outputs": [
    {
     "name": "stdout",
     "output_type": "stream",
     "text": [
      "Dane wejściowe:\n",
      "   x,   f(x)\n",
      "[[ 0.00000e+00  1.00000e+00]\n",
      " [ 5.00000e-01  9.92900e+01]\n",
      " [ 1.00000e+00  1.89890e+02]\n",
      " [ 1.50000e+00  2.63740e+02]\n",
      " [ 2.00000e+00  3.09480e+02]\n",
      " [ 2.50000e+00  3.14870e+02]\n",
      " [ 3.00000e+00  2.68270e+02]\n",
      " [ 3.50000e+00  1.60120e+02]\n",
      " [ 4.00000e+00 -1.56400e+01]\n",
      " [ 4.50000e+00 -2.60060e+02]\n",
      " [ 5.00000e+00 -5.67750e+02]\n",
      " [ 5.50000e+00 -9.25410e+02]\n",
      " [ 6.00000e+00 -1.31036e+03]\n",
      " [ 6.50000e+00 -1.68909e+03]\n",
      " [ 7.00000e+00 -2.01577e+03]\n",
      " [ 7.50000e+00 -2.23084e+03]\n",
      " [ 8.00000e+00 -2.25948e+03]\n",
      " [ 8.50000e+00 -2.01021e+03]\n",
      " [ 9.00000e+00 -1.37339e+03]\n",
      " [ 9.50000e+00 -2.19760e+02]\n",
      " [ 1.00000e+01  1.60100e+03]]\n"
     ]
    }
   ],
   "source": [
    "nazwa_pliku = 'input.txt'\n",
    "\n",
    "# Funkcja, która zastępuje przecinki jako separator dziesiętny na kropki - w celu poprawnego wczytania danych za\n",
    "# pomocą np.loadtxt\n",
    "def replace_commas_with_periods(filename):\n",
    "    with open(filename, 'r') as file:\n",
    "        contents = file.read()\n",
    "        new_contents = contents.replace(',', '.')\n",
    "    with open(filename, 'w') as file:\n",
    "        file.write(new_contents)\n",
    "\n",
    "replace_commas_with_periods(nazwa_pliku)\n",
    "coords = np.loadtxt('./' + nazwa_pliku, delimiter='\\t')\n",
    "print(\"Dane wejściowe:\")\n",
    "print(\"   x,   f(x)\")\n",
    "print(coords)"
   ],
   "metadata": {
    "collapsed": false,
    "ExecuteTime": {
     "start_time": "2023-04-28T14:49:08.620450Z",
     "end_time": "2023-04-28T14:49:08.681261Z"
    }
   }
  },
  {
   "cell_type": "markdown",
   "source": [
    "## Przypisanie danych do zmiennych"
   ],
   "metadata": {
    "collapsed": false
   }
  },
  {
   "cell_type": "code",
   "execution_count": 96,
   "outputs": [],
   "source": [
    "xi = coords[:, 0]\n",
    "fx = coords[:, 1]\n",
    "h = 0.5 # Odległośc między mierzonymi punktami"
   ],
   "metadata": {
    "collapsed": false,
    "ExecuteTime": {
     "start_time": "2023-04-28T14:49:08.637452Z",
     "end_time": "2023-04-28T14:49:08.686269Z"
    }
   }
  },
  {
   "cell_type": "markdown",
   "source": [
    "## Metoda Różnic zwykłych"
   ],
   "metadata": {
    "collapsed": false
   }
  },
  {
   "cell_type": "markdown",
   "source": [
    "### Funkcja która oblicza wartość następnej kolumny na podstawie danych z poprzedniej\n",
    "\n",
    "W każdej kolejnej kolumnie oznaczonej jako delta f(x) obliczamy różnicę między kolejnymi wartościami z poprzedniej kolumny.\n",
    "Funkcja poniżej zwraca numpy array z wartościami kolejnej kolumny.\n",
    "\n",
    "![alt text](./assets/images/1.png \"Title\")"
   ],
   "metadata": {
    "collapsed": false
   }
  },
  {
   "cell_type": "code",
   "execution_count": 97,
   "outputs": [
    {
     "name": "stdout",
     "output_type": "stream",
     "text": [
      "Sprawdzenie poprawności działania funkcji:\n",
      "[  98.29   90.6    73.85   45.74    5.39  -46.6  -108.15 -175.76 -244.42\n",
      " -307.69 -357.66 -384.95 -378.73 -326.68 -215.07  -28.64  249.27  636.82\n",
      " 1153.63 1820.76]\n"
     ]
    }
   ],
   "source": [
    "def get_next_column(base_column: np.ndarray):\n",
    "   next_column = np.array([])\n",
    "   # Nie chcemy obliczać różnicy między ostatnią wartością a wartością o jeden większą, ponieważ nie ma takiej wartości\n",
    "   last_f = base_column[-1]\n",
    "   for index, f in np.ndenumerate(base_column):\n",
    "    if f != last_f:\n",
    "        next_column = np.append(next_column, round((base_column[index[0] + 1] - f), 2))\n",
    "   return next_column\n",
    "print(\"Sprawdzenie poprawności działania funkcji:\")\n",
    "print(get_next_column(fx))"
   ],
   "metadata": {
    "collapsed": false,
    "ExecuteTime": {
     "start_time": "2023-04-28T14:49:08.654453Z",
     "end_time": "2023-04-28T14:49:08.687269Z"
    }
   }
  },
  {
   "cell_type": "markdown",
   "source": [
    "### Funkcja która oblicza wszystkie kolumny w tabeli\n",
    "\n",
    "Na podstawie poprzedniej funkcji, możemy obliczyć kolejne kolumny w tabeli różnic zwykłych.\n",
    "Funkcja będzie uruchamiać się rekurencyjnie, aż do momentu, kiedy wszystkie wartości w kolumnie będą takie same.\n",
    "Następnie zwróci listę z wszystkimi kolumnami."
   ],
   "metadata": {
    "collapsed": false
   }
  },
  {
   "cell_type": "code",
   "execution_count": 98,
   "outputs": [
    {
     "name": "stdout",
     "output_type": "stream",
     "text": [
      "Column 1: [  98.29   90.6    73.85   45.74    5.39  -46.6  -108.15 -175.76 -244.42\n",
      " -307.69 -357.66 -384.95 -378.73 -326.68 -215.07  -28.64  249.27  636.82\n",
      " 1153.63 1820.76]\n",
      "Column 2: [ -7.69 -16.75 -28.11 -40.35 -51.99 -61.55 -67.61 -68.66 -63.27 -49.97\n",
      " -27.29   6.22  52.05 111.61 186.43 277.91 387.55 516.81 667.13]\n",
      "Column 3: [ -9.06 -11.36 -12.24 -11.64  -9.56  -6.06  -1.05   5.39  13.3   22.68\n",
      "  33.51  45.83  59.56  74.82  91.48 109.64 129.26 150.32]\n",
      "Column 4: [-2.3  -0.88  0.6   2.08  3.5   5.01  6.44  7.91  9.38 10.83 12.32 13.73\n",
      " 15.26 16.66 18.16 19.62 21.06]\n",
      "Column 5: [1.42 1.48 1.48 1.42 1.51 1.43 1.47 1.47 1.45 1.49 1.41 1.53 1.4  1.5\n",
      " 1.46 1.44]\n",
      "Column 6: [ 0.06  0.   -0.06  0.09 -0.08  0.04  0.   -0.02  0.04 -0.08  0.12 -0.13\n",
      "  0.1  -0.04 -0.02]\n",
      "Column 7: [-0.06 -0.06  0.15 -0.17  0.12 -0.04 -0.02 -0.12  0.2  -0.25  0.23 -0.14\n",
      "  0.02]\n",
      "Column 8: [ 0.    0.21 -0.32  0.29 -0.16  0.02 -0.1   0.32 -0.45  0.48 -0.37  0.16]\n",
      "Column 9: [ 0.21 -0.53  0.61 -0.45  0.18 -0.12  0.42 -0.77  0.93 -0.85  0.53]\n",
      "Column 10: [-0.74  1.14 -1.06  0.63 -0.3   0.54 -1.19  1.7  -1.78  1.38]\n",
      "Column 11: [ 1.88 -2.2   1.69 -0.93  0.84 -1.73  2.89 -3.48  3.16]\n",
      "Column 12: [-4.08  3.89 -2.62  1.77 -2.57  4.62 -6.37  6.64]\n",
      "Column 13: [  7.97  -6.51   4.39  -4.34   7.19 -10.99  13.01]\n",
      "Column 14: [-14.48  10.9   -8.73  11.53 -18.18  24.  ]\n",
      "Column 15: [ 25.38 -19.63  20.26 -29.71  42.18]\n",
      "Column 16: [-45.01  39.89 -49.97  71.89]\n",
      "Column 17: [ 84.9  -89.86 121.86]\n",
      "Column 18: [-174.76  211.72]\n",
      "Column 19: [386.48]\n"
     ]
    }
   ],
   "source": [
    "def calculate_cols(column: np.ndarray, columns: list = []) -> list:\n",
    "    col = get_next_column(column)\n",
    "    columns.append(col)\n",
    "    if len(np.unique(col)) != 1:\n",
    "        calculate_cols(col, columns)\n",
    "    return columns\n",
    "\n",
    "columns = calculate_cols(fx)\n",
    "# Sprawdzenie poprawności działania funkcji\n",
    "for i in range(len(columns)):\n",
    "    print(f'Column {i+1}: {columns[i]}')"
   ],
   "metadata": {
    "collapsed": false,
    "ExecuteTime": {
     "start_time": "2023-04-28T14:49:08.667454Z",
     "end_time": "2023-04-28T14:49:08.687269Z"
    }
   }
  },
  {
   "cell_type": "markdown",
   "source": [
    "### Funkcja która oblicza pochodną w punkcie metodą różnicy zwykłej"
   ],
   "metadata": {
    "collapsed": false
   }
  },
  {
   "cell_type": "code",
   "execution_count": 99,
   "outputs": [
    {
     "name": "stdout",
     "output_type": "stream",
     "text": [
      "Pochodna w punkcie 0.0:  283.5204356011206\n",
      "Pochodna w punkcie 0.5:  145.68643889607125\n",
      "Pochodna w punkcie 1.0:  194.3829334864482\n",
      "Pochodna w punkcie 1.5:  107.49441916416917\n",
      "Pochodna w punkcie 2.0:  65.35997635697636\n",
      "Pochodna w punkcie 2.5:  -43.99131468531469\n",
      "Pochodna w punkcie 3.0:  -148.08272127872124\n",
      "Pochodna w punkcie 3.5:  -284.9917907647908\n",
      "Pochodna w punkcie 4.0:  -419.51981168831173\n",
      "Pochodna w punkcie 4.5:  -555.7386507936507\n",
      "Pochodna w punkcie 5.0:  -671.0500079365081\n",
      "Pochodna w punkcie 5.5:  -751.8563333333333\n",
      "Pochodna w punkcie 6.0:  -776.9009523809524\n",
      "Pochodna w punkcie 6.5:  -722.8066666666667\n",
      "Pochodna w punkcie 7.0:  -564.0726666666667\n",
      "Pochodna w punkcie 7.5:  -271.3306666666667\n",
      "Pochodna w punkcie 8.0:  186.63333333333333\n",
      "Pochodna w punkcie 8.5:  857.0433333333335\n",
      "Pochodna w punkcie 9.0:  1640.13\n",
      "Pochodna w punkcie 9.5:  3641.52\n",
      "Pochodna w punkcie 10.0:  0.0\n"
     ]
    }
   ],
   "source": [
    "def calculate_derivative_at_point(columns: list, x: int):\n",
    "    # W funkcji podajemy wartość x dla jakiej będziemy obliczać pochodną, w funkcji skorzystać musimy z indeksu tejże wartości\n",
    "    index_of_value_x = np.where(xi == x)[0]\n",
    "    point_fs = []\n",
    "    for column in columns:\n",
    "        try:\n",
    "            point_fs.append(column[index_of_value_x])\n",
    "        except IndexError:\n",
    "            pass\n",
    "            # print(\"No element at index: \", x)\n",
    "\n",
    "    for index, delta_f in enumerate(point_fs):\n",
    "        skladnik = 1/(index+1) * delta_f\n",
    "        skladnik = skladnik if index % 2 == 0 else -skladnik\n",
    "        point_fs[index] = skladnik\n",
    "\n",
    "    point_fs = np.array(point_fs)\n",
    "    return (1/h * point_fs.sum())\n",
    "\n",
    "for x in xi:\n",
    "    print(f'Pochodna w punkcie {x}: ', calculate_derivative_at_point(columns, x))"
   ],
   "metadata": {
    "collapsed": false,
    "ExecuteTime": {
     "start_time": "2023-04-28T14:49:08.713729Z",
     "end_time": "2023-04-28T14:49:08.752729Z"
    }
   }
  },
  {
   "cell_type": "markdown",
   "source": [
    "# Metoda różnicy wstecznej\n",
    "\n",
    "W każdej kolejnej kolumnie oznaczonej jako delta f(x) obliczamy różnicę między kolejnymi wartościami z poprzedniej kolumny.\n",
    "Funkcja poniżej zwraca numpy array z wartościami kolejnej kolumny.\n",
    "![alt text](./assets/images/2.png \"Title\")"
   ],
   "metadata": {
    "collapsed": false
   }
  },
  {
   "cell_type": "code",
   "execution_count": 100,
   "outputs": [
    {
     "name": "stdout",
     "output_type": "stream",
     "text": [
      "Sprawdzenie poprawności działania funkcji:\n",
      "[1820.76 1153.63  636.82  249.27  -28.64 -215.07 -326.68 -378.73 -384.95\n",
      " -357.66 -307.69 -244.42 -175.76 -108.15  -46.6     5.39   45.74   73.85\n",
      "   90.6    98.29]\n"
     ]
    }
   ],
   "source": [
    "fx_reverse = np.flip(fx)\n",
    "\n",
    "def get_next_column_reverse(base_column: np.ndarray):\n",
    "   next_column = np.array([])\n",
    "   # Nie chcemy obliczać różnicy między ostatnią wartością a wartością o jeden większą, ponieważ nie ma takiej wartości\n",
    "   first_f = base_column[-1]\n",
    "   for index, f in np.ndenumerate(base_column):\n",
    "    if f != first_f:\n",
    "        next_column = np.append(next_column, round((f - base_column[index[0] + 1]), 2))\n",
    "   return next_column\n",
    "print(\"Sprawdzenie poprawności działania funkcji:\")\n",
    "print(get_next_column_reverse(fx_reverse))"
   ],
   "metadata": {
    "collapsed": false,
    "ExecuteTime": {
     "start_time": "2023-04-28T14:49:08.776887Z",
     "end_time": "2023-04-28T14:49:08.796887Z"
    }
   }
  },
  {
   "cell_type": "markdown",
   "source": [
    "### Funkcja która oblicza wszystkie kolumny w tabeli\n",
    "\n",
    "Na podstawie poprzedniej funkcji, możemy obliczyć kolejne kolumny w tabeli różnic zwykłych.\n",
    "Funkcja będzie uruchamiać się rekurencyjnie, aż do momentu, kiedy wszystkie wartości w kolumnie będą takie same.\n",
    "Następnie zwróci listę z wszystkimi kolumnami."
   ],
   "metadata": {
    "collapsed": false
   }
  },
  {
   "cell_type": "code",
   "execution_count": 101,
   "outputs": [
    {
     "name": "stdout",
     "output_type": "stream",
     "text": [
      "Column 1: [1820.76 1153.63  636.82  249.27  -28.64 -215.07 -326.68 -378.73 -384.95\n",
      " -357.66 -307.69 -244.42 -175.76 -108.15  -46.6     5.39   45.74   73.85\n",
      "   90.6    98.29]\n",
      "Column 2: [667.13 516.81 387.55 277.91 186.43 111.61  52.05   6.22 -27.29 -49.97\n",
      " -63.27 -68.66 -67.61 -61.55 -51.99 -40.35 -28.11 -16.75  -7.69]\n",
      "Column 3: [150.32 129.26 109.64  91.48  74.82  59.56  45.83  33.51  22.68  13.3\n",
      "   5.39  -1.05  -6.06  -9.56 -11.64 -12.24 -11.36  -9.06]\n",
      "Column 4: [21.06 19.62 18.16 16.66 15.26 13.73 12.32 10.83  9.38  7.91  6.44  5.01\n",
      "  3.5   2.08  0.6  -0.88 -2.3 ]\n",
      "Column 5: [1.44 1.46 1.5  1.4  1.53 1.41 1.49 1.45 1.47 1.47 1.43 1.51 1.42 1.48\n",
      " 1.48 1.42]\n",
      "Column 6: [-0.02 -0.04  0.1  -0.13  0.12 -0.08  0.04 -0.02  0.    0.04 -0.08  0.09\n",
      "  0.    0.06]\n",
      "Column 7: [ 0.02 -0.14  0.23 -0.25  0.2  -0.12  0.06 -0.02 -0.04  0.12 -0.17  0.09\n",
      " -0.06]\n",
      "Column 8: [ 0.16 -0.37  0.48 -0.45  0.32 -0.18  0.08  0.02 -0.16  0.29 -0.26  0.15]\n",
      "Column 9: [ 0.53 -0.85  0.93 -0.77  0.5  -0.26  0.06  0.18 -0.45  0.55 -0.41]\n",
      "Column 10: [ 1.38 -1.78  1.7  -1.27  0.76 -0.32 -0.12  0.63 -1.    0.96]\n",
      "Column 11: [ 3.16 -3.48  2.97 -2.03  1.08 -0.2  -0.75  1.63 -1.96]\n",
      "Column 12: [ 6.64 -6.45  5.   -3.11  1.28  0.55 -2.38  3.59]\n",
      "Column 13: [ 13.09 -11.45   8.11  -4.39   0.73   2.93  -5.97]\n",
      "Column 14: [ 24.54 -19.56  12.5   -5.12  -2.2    8.9 ]\n",
      "Column 15: [ 44.1  -32.06  17.62  -2.92 -11.1 ]\n",
      "Column 16: [ 76.16 -49.68  20.54   8.18]\n",
      "Column 17: [125.84 -70.22  12.36]\n",
      "Column 18: [196.06 -82.58]\n",
      "Column 19: [278.64]\n"
     ]
    }
   ],
   "source": [
    "def calculate_cols_reverse(column: np.ndarray, columns: list = []) -> list:\n",
    "    col = get_next_column_reverse(column)\n",
    "    columns.append(col)\n",
    "    if len(np.unique(col)) != 1:\n",
    "        calculate_cols_reverse(col, columns)\n",
    "    return columns\n",
    "\n",
    "columns_reverse = calculate_cols_reverse(fx_reverse)\n",
    "# Sprawdzenie poprawności działania funkcji\n",
    "for i in range(len(columns_reverse)):\n",
    "    print(f'Column {i+1}: {columns_reverse[i]}')"
   ],
   "metadata": {
    "collapsed": false,
    "ExecuteTime": {
     "start_time": "2023-04-28T14:49:08.791887Z",
     "end_time": "2023-04-28T14:49:08.806887Z"
    }
   }
  },
  {
   "cell_type": "markdown",
   "source": [
    "### Funkcja która oblicza pochodną w danym punkcie metodą różnicy wstecznej"
   ],
   "metadata": {
    "collapsed": false
   }
  },
  {
   "cell_type": "code",
   "execution_count": 102,
   "outputs": [
    {
     "name": "stdout",
     "output_type": "stream",
     "text": [
      "Pochodna w punkcie 0.0:  0.0\n",
      "Pochodna w punkcie 0.5:  196.58\n",
      "Pochodna w punkcie 1.0:  173.51\n",
      "Pochodna w punkcie 1.5:  124.90999999999998\n",
      "Pochodna w punkcie 2.0:  54.646666666666675\n",
      "Pochodna w punkcie 2.5:  -37.602000000000004\n",
      "Pochodna w punkcie 3.0:  -152.05799999999996\n",
      "Pochodna w punkcie 3.5:  -282.57133333333337\n",
      "Pochodna w punkcie 4.0:  -420.8691428571429\n",
      "Pochodna w punkcie 4.5:  -554.9977857142858\n",
      "Pochodna w punkcie 5.0:  -671.4960158730158\n",
      "Pochodna w punkcie 5.5:  -751.4459920634921\n",
      "Pochodna w punkcie 6.0:  -777.4997922077923\n",
      "Pochodna w punkcie 6.5:  -721.8516839826841\n",
      "Pochodna w punkcie 7.0:  -565.412348984349\n",
      "Pochodna w punkcie 7.5:  -269.84456265956277\n",
      "Pochodna w punkcie 8.0:  186.4399729159729\n",
      "Pochodna w punkcie 8.5:  844.0132228882228\n",
      "Pochodna w punkcie 9.0:  1755.5067385261798\n",
      "Pochodna w punkcie 9.5:  2885.761660969749\n",
      "Pochodna w punkcie 10.0:  4508.922607933518\n"
     ]
    }
   ],
   "source": [
    "def calculate_derivative_at_point_reverse(columns: list, x: int):\n",
    "    # W funkcji podajemy wartość x dla jakiej będziemy obliczać pochodną, w funkcji skorzystać musimy z indeksu tejże wartości\n",
    "    xi_reversed = np.flip(xi)\n",
    "    index_of_value_x = np.where(xi_reversed == x)[0]\n",
    "    point_fs = []\n",
    "    for column in columns:\n",
    "        try:\n",
    "            point_fs.append(column[index_of_value_x])\n",
    "        except IndexError:\n",
    "            pass\n",
    "            # print(\"No element at index: \", x)\n",
    "\n",
    "    for index, delta_f in enumerate(point_fs):\n",
    "        skladnik = 1/(index+1) * delta_f\n",
    "        point_fs[index] = skladnik\n",
    "\n",
    "    point_fs = np.array(point_fs)\n",
    "    return (1/h * point_fs.sum())\n",
    "\n",
    "for x in xi:\n",
    "    print(f'Pochodna w punkcie {x}: ', calculate_derivative_at_point_reverse(columns_reverse, x))"
   ],
   "metadata": {
    "collapsed": false,
    "ExecuteTime": {
     "start_time": "2023-04-28T14:49:08.823891Z",
     "end_time": "2023-04-28T14:49:08.858891Z"
    }
   }
  },
  {
   "cell_type": "markdown",
   "source": [
    "# Metoda różnicy centralnej"
   ],
   "metadata": {
    "collapsed": false
   }
  },
  {
   "cell_type": "markdown",
   "source": [
    "### Funkcja któa oblicza pośrednie wartości dla x\n",
    "Pośrednie wartości to wartości, które znajdują się pomiędzy wartościami z tablicy xi.\n",
    "Np. dla tablicy xi = [2.5, 2, 1.5] pośrednie wartości to [2.25, 1.75, 1.25]"
   ],
   "metadata": {
    "collapsed": false
   }
  },
  {
   "cell_type": "code",
   "execution_count": 103,
   "outputs": [
    {
     "name": "stdout",
     "output_type": "stream",
     "text": [
      "[ 0.    0.25  0.5   0.75  1.    1.25  1.5   1.75  2.    2.25  2.5   2.75\n",
      "  3.    3.25  3.5   3.75  4.    4.25  4.5   4.75  5.    5.25  5.5   5.75\n",
      "  6.    6.25  6.5   6.75  7.    7.25  7.5   7.75  8.    8.25  8.5   8.75\n",
      "  9.    9.25  9.5   9.75 10.  ]\n"
     ]
    }
   ],
   "source": [
    "def calculate_central_x(xi: np.ndarray):\n",
    "    global h\n",
    "    new_arr = []\n",
    "    for x in xi:\n",
    "        new_arr.append(x)\n",
    "        new_arr.append(x + 1/2 * h)\n",
    "    new_arr = np.delete(new_arr, -1)\n",
    "    return new_arr\n",
    "\n",
    "central_x = calculate_central_x(xi)\n",
    "print(central_x)"
   ],
   "metadata": {
    "collapsed": false
   }
  },
  {
   "cell_type": "markdown",
   "source": [
    "### Funkcja która tworzy kolumnę z pustymi wartościami pomiędzy wartościami z tablicy xi"
   ],
   "metadata": {
    "collapsed": false
   }
  },
  {
   "cell_type": "code",
   "execution_count": 104,
   "outputs": [
    {
     "name": "stdout",
     "output_type": "stream",
     "text": [
      "[ 1.00000e+00          nan  9.92900e+01          nan  1.89890e+02\n",
      "          nan  2.63740e+02          nan  3.09480e+02          nan\n",
      "  3.14870e+02          nan  2.68270e+02          nan  1.60120e+02\n",
      "          nan -1.56400e+01          nan -2.60060e+02          nan\n",
      " -5.67750e+02          nan -9.25410e+02          nan -1.31036e+03\n",
      "          nan -1.68909e+03          nan -2.01577e+03          nan\n",
      " -2.23084e+03          nan -2.25948e+03          nan -2.01021e+03\n",
      "          nan -1.37339e+03          nan -2.19760e+02          nan\n",
      "  1.60100e+03]\n"
     ]
    }
   ],
   "source": [
    "def create_column_with_empty_values_between(fx: np.ndarray):\n",
    "    nan_array = np.full(len(fx),np.nan)\n",
    "    calculated_array = np.array([])\n",
    "    for element in zip(fx, nan_array):\n",
    "        calculated_array = np.append(calculated_array, element)\n",
    "    calculated_array = np.delete(calculated_array, -1)\n",
    "    return calculated_array\n",
    "\n",
    "print(create_column_with_empty_values_between(fx))"
   ],
   "metadata": {
    "collapsed": false
   }
  },
  {
   "cell_type": "markdown",
   "source": [
    "### Funkcja która oblicza wszystkie kolumny w tabeli różnic centralnych\n",
    "\n",
    "![alt text](./assets/images/3.png \"Title\")"
   ],
   "metadata": {
    "collapsed": false
   }
  },
  {
   "cell_type": "code",
   "execution_count": 105,
   "outputs": [
    {
     "data": {
      "text/plain": "            0       1       2      3     4     5     6     7     8     9    \n0.00       NaN     NaN     NaN    NaN   NaN   NaN   NaN   NaN   NaN   NaN  \\\n0.25     98.29     NaN     NaN    NaN   NaN   NaN   NaN   NaN   NaN   NaN   \n0.50       NaN   -7.69     NaN    NaN   NaN   NaN   NaN   NaN   NaN   NaN   \n0.75     90.60     NaN   -9.06    NaN   NaN   NaN   NaN   NaN   NaN   NaN   \n1.00       NaN  -16.75     NaN  -2.30   NaN   NaN   NaN   NaN   NaN   NaN   \n1.25     73.85     NaN  -11.36    NaN  1.42   NaN   NaN   NaN   NaN   NaN   \n1.50       NaN  -28.11     NaN  -0.88   NaN  0.06   NaN   NaN   NaN   NaN   \n1.75     45.74     NaN  -12.24    NaN  1.48   NaN -0.06   NaN   NaN   NaN   \n2.00       NaN  -40.35     NaN   0.60   NaN  0.00   NaN  0.00   NaN   NaN   \n2.25      5.39     NaN  -11.64    NaN  1.48   NaN -0.06   NaN  0.21   NaN   \n2.50       NaN  -51.99     NaN   2.08   NaN -0.06   NaN  0.21   NaN -0.74   \n2.75    -46.60     NaN   -9.56    NaN  1.42   NaN  0.15   NaN -0.53   NaN   \n3.00       NaN  -61.55     NaN   3.50   NaN  0.09   NaN -0.32   NaN  1.14   \n3.25   -108.15     NaN   -6.06    NaN  1.51   NaN -0.17   NaN  0.61   NaN   \n3.50       NaN  -67.61     NaN   5.01   NaN -0.08   NaN  0.29   NaN -1.06   \n3.75   -175.76     NaN   -1.05    NaN  1.43   NaN  0.12   NaN -0.45   NaN   \n4.00       NaN  -68.66     NaN   6.44   NaN  0.04   NaN -0.16   NaN  0.63   \n4.25   -244.42     NaN    5.39    NaN  1.47   NaN -0.04   NaN  0.18   NaN   \n4.50       NaN  -63.27     NaN   7.91   NaN  0.00   NaN  0.02   NaN -0.30   \n4.75   -307.69     NaN   13.30    NaN  1.47   NaN -0.02   NaN -0.12   NaN   \n5.00       NaN  -49.97     NaN   9.38   NaN -0.02   NaN -0.10   NaN  0.54   \n5.25   -357.66     NaN   22.68    NaN  1.45   NaN -0.12   NaN  0.42   NaN   \n5.50       NaN  -27.29     NaN  10.83   NaN  0.04   NaN  0.32   NaN -1.19   \n5.75   -384.95     NaN   33.51    NaN  1.49   NaN  0.20   NaN -0.77   NaN   \n6.00       NaN    6.22     NaN  12.32   NaN -0.08   NaN -0.45   NaN  1.70   \n6.25   -378.73     NaN   45.83    NaN  1.41   NaN -0.25   NaN  0.93   NaN   \n6.50       NaN   52.05     NaN  13.73   NaN  0.12   NaN  0.48   NaN -1.78   \n6.75   -326.68     NaN   59.56    NaN  1.53   NaN  0.23   NaN -0.85   NaN   \n7.00       NaN  111.61     NaN  15.26   NaN -0.13   NaN -0.37   NaN  1.38   \n7.25   -215.07     NaN   74.82    NaN  1.40   NaN -0.14   NaN  0.53   NaN   \n7.50       NaN  186.43     NaN  16.66   NaN  0.10   NaN  0.16   NaN   NaN   \n7.75    -28.64     NaN   91.48    NaN  1.50   NaN  0.02   NaN   NaN   NaN   \n8.00       NaN  277.91     NaN  18.16   NaN -0.04   NaN   NaN   NaN   NaN   \n8.25    249.27     NaN  109.64    NaN  1.46   NaN   NaN   NaN   NaN   NaN   \n8.50       NaN  387.55     NaN  19.62   NaN -0.02   NaN   NaN   NaN   NaN   \n8.75    636.82     NaN  129.26    NaN  1.44   NaN   NaN   NaN   NaN   NaN   \n9.00       NaN  516.81     NaN  21.06   NaN   NaN   NaN   NaN   NaN   NaN   \n9.25   1153.63     NaN  150.32    NaN   NaN   NaN   NaN   NaN   NaN   NaN   \n9.50       NaN  667.13     NaN    NaN   NaN   NaN   NaN   NaN   NaN   NaN   \n9.75   1820.76     NaN     NaN    NaN   NaN   NaN   NaN   NaN   NaN   NaN   \n10.00      NaN     NaN     NaN    NaN   NaN   NaN   NaN   NaN   NaN   NaN   \n\n       ...  31  32  33  34  35  36  37  38  39  40  \n0.00   ... NaN NaN NaN NaN NaN NaN NaN NaN NaN NaN  \n0.25   ... NaN NaN NaN NaN NaN NaN NaN NaN NaN NaN  \n0.50   ... NaN NaN NaN NaN NaN NaN NaN NaN NaN NaN  \n0.75   ... NaN NaN NaN NaN NaN NaN NaN NaN NaN NaN  \n1.00   ... NaN NaN NaN NaN NaN NaN NaN NaN NaN NaN  \n1.25   ... NaN NaN NaN NaN NaN NaN NaN NaN NaN NaN  \n1.50   ... NaN NaN NaN NaN NaN NaN NaN NaN NaN NaN  \n1.75   ... NaN NaN NaN NaN NaN NaN NaN NaN NaN NaN  \n2.00   ... NaN NaN NaN NaN NaN NaN NaN NaN NaN NaN  \n2.25   ... NaN NaN NaN NaN NaN NaN NaN NaN NaN NaN  \n2.50   ... NaN NaN NaN NaN NaN NaN NaN NaN NaN NaN  \n2.75   ... NaN NaN NaN NaN NaN NaN NaN NaN NaN NaN  \n3.00   ... NaN NaN NaN NaN NaN NaN NaN NaN NaN NaN  \n3.25   ... NaN NaN NaN NaN NaN NaN NaN NaN NaN NaN  \n3.50   ... NaN NaN NaN NaN NaN NaN NaN NaN NaN NaN  \n3.75   ... NaN NaN NaN NaN NaN NaN NaN NaN NaN NaN  \n4.00   ... NaN NaN NaN NaN NaN NaN NaN NaN NaN NaN  \n4.25   ... NaN NaN NaN NaN NaN NaN NaN NaN NaN NaN  \n4.50   ... NaN NaN NaN NaN NaN NaN NaN NaN NaN NaN  \n4.75   ... NaN NaN NaN NaN NaN NaN NaN NaN NaN NaN  \n5.00   ... NaN NaN NaN NaN NaN NaN NaN NaN NaN NaN  \n5.25   ... NaN NaN NaN NaN NaN NaN NaN NaN NaN NaN  \n5.50   ... NaN NaN NaN NaN NaN NaN NaN NaN NaN NaN  \n5.75   ... NaN NaN NaN NaN NaN NaN NaN NaN NaN NaN  \n6.00   ... NaN NaN NaN NaN NaN NaN NaN NaN NaN NaN  \n6.25   ... NaN NaN NaN NaN NaN NaN NaN NaN NaN NaN  \n6.50   ... NaN NaN NaN NaN NaN NaN NaN NaN NaN NaN  \n6.75   ... NaN NaN NaN NaN NaN NaN NaN NaN NaN NaN  \n7.00   ... NaN NaN NaN NaN NaN NaN NaN NaN NaN NaN  \n7.25   ... NaN NaN NaN NaN NaN NaN NaN NaN NaN NaN  \n7.50   ... NaN NaN NaN NaN NaN NaN NaN NaN NaN NaN  \n7.75   ... NaN NaN NaN NaN NaN NaN NaN NaN NaN NaN  \n8.00   ... NaN NaN NaN NaN NaN NaN NaN NaN NaN NaN  \n8.25   ... NaN NaN NaN NaN NaN NaN NaN NaN NaN NaN  \n8.50   ... NaN NaN NaN NaN NaN NaN NaN NaN NaN NaN  \n8.75   ... NaN NaN NaN NaN NaN NaN NaN NaN NaN NaN  \n9.00   ... NaN NaN NaN NaN NaN NaN NaN NaN NaN NaN  \n9.25   ... NaN NaN NaN NaN NaN NaN NaN NaN NaN NaN  \n9.50   ... NaN NaN NaN NaN NaN NaN NaN NaN NaN NaN  \n9.75   ... NaN NaN NaN NaN NaN NaN NaN NaN NaN NaN  \n10.00  ... NaN NaN NaN NaN NaN NaN NaN NaN NaN NaN  \n\n[41 rows x 41 columns]",
      "text/html": "<div>\n<style scoped>\n    .dataframe tbody tr th:only-of-type {\n        vertical-align: middle;\n    }\n\n    .dataframe tbody tr th {\n        vertical-align: top;\n    }\n\n    .dataframe thead th {\n        text-align: right;\n    }\n</style>\n<table border=\"1\" class=\"dataframe\">\n  <thead>\n    <tr style=\"text-align: right;\">\n      <th></th>\n      <th>0</th>\n      <th>1</th>\n      <th>2</th>\n      <th>3</th>\n      <th>4</th>\n      <th>5</th>\n      <th>6</th>\n      <th>7</th>\n      <th>8</th>\n      <th>9</th>\n      <th>...</th>\n      <th>31</th>\n      <th>32</th>\n      <th>33</th>\n      <th>34</th>\n      <th>35</th>\n      <th>36</th>\n      <th>37</th>\n      <th>38</th>\n      <th>39</th>\n      <th>40</th>\n    </tr>\n  </thead>\n  <tbody>\n    <tr>\n      <th>0.00</th>\n      <td>NaN</td>\n      <td>NaN</td>\n      <td>NaN</td>\n      <td>NaN</td>\n      <td>NaN</td>\n      <td>NaN</td>\n      <td>NaN</td>\n      <td>NaN</td>\n      <td>NaN</td>\n      <td>NaN</td>\n      <td>...</td>\n      <td>NaN</td>\n      <td>NaN</td>\n      <td>NaN</td>\n      <td>NaN</td>\n      <td>NaN</td>\n      <td>NaN</td>\n      <td>NaN</td>\n      <td>NaN</td>\n      <td>NaN</td>\n      <td>NaN</td>\n    </tr>\n    <tr>\n      <th>0.25</th>\n      <td>98.29</td>\n      <td>NaN</td>\n      <td>NaN</td>\n      <td>NaN</td>\n      <td>NaN</td>\n      <td>NaN</td>\n      <td>NaN</td>\n      <td>NaN</td>\n      <td>NaN</td>\n      <td>NaN</td>\n      <td>...</td>\n      <td>NaN</td>\n      <td>NaN</td>\n      <td>NaN</td>\n      <td>NaN</td>\n      <td>NaN</td>\n      <td>NaN</td>\n      <td>NaN</td>\n      <td>NaN</td>\n      <td>NaN</td>\n      <td>NaN</td>\n    </tr>\n    <tr>\n      <th>0.50</th>\n      <td>NaN</td>\n      <td>-7.69</td>\n      <td>NaN</td>\n      <td>NaN</td>\n      <td>NaN</td>\n      <td>NaN</td>\n      <td>NaN</td>\n      <td>NaN</td>\n      <td>NaN</td>\n      <td>NaN</td>\n      <td>...</td>\n      <td>NaN</td>\n      <td>NaN</td>\n      <td>NaN</td>\n      <td>NaN</td>\n      <td>NaN</td>\n      <td>NaN</td>\n      <td>NaN</td>\n      <td>NaN</td>\n      <td>NaN</td>\n      <td>NaN</td>\n    </tr>\n    <tr>\n      <th>0.75</th>\n      <td>90.60</td>\n      <td>NaN</td>\n      <td>-9.06</td>\n      <td>NaN</td>\n      <td>NaN</td>\n      <td>NaN</td>\n      <td>NaN</td>\n      <td>NaN</td>\n      <td>NaN</td>\n      <td>NaN</td>\n      <td>...</td>\n      <td>NaN</td>\n      <td>NaN</td>\n      <td>NaN</td>\n      <td>NaN</td>\n      <td>NaN</td>\n      <td>NaN</td>\n      <td>NaN</td>\n      <td>NaN</td>\n      <td>NaN</td>\n      <td>NaN</td>\n    </tr>\n    <tr>\n      <th>1.00</th>\n      <td>NaN</td>\n      <td>-16.75</td>\n      <td>NaN</td>\n      <td>-2.30</td>\n      <td>NaN</td>\n      <td>NaN</td>\n      <td>NaN</td>\n      <td>NaN</td>\n      <td>NaN</td>\n      <td>NaN</td>\n      <td>...</td>\n      <td>NaN</td>\n      <td>NaN</td>\n      <td>NaN</td>\n      <td>NaN</td>\n      <td>NaN</td>\n      <td>NaN</td>\n      <td>NaN</td>\n      <td>NaN</td>\n      <td>NaN</td>\n      <td>NaN</td>\n    </tr>\n    <tr>\n      <th>1.25</th>\n      <td>73.85</td>\n      <td>NaN</td>\n      <td>-11.36</td>\n      <td>NaN</td>\n      <td>1.42</td>\n      <td>NaN</td>\n      <td>NaN</td>\n      <td>NaN</td>\n      <td>NaN</td>\n      <td>NaN</td>\n      <td>...</td>\n      <td>NaN</td>\n      <td>NaN</td>\n      <td>NaN</td>\n      <td>NaN</td>\n      <td>NaN</td>\n      <td>NaN</td>\n      <td>NaN</td>\n      <td>NaN</td>\n      <td>NaN</td>\n      <td>NaN</td>\n    </tr>\n    <tr>\n      <th>1.50</th>\n      <td>NaN</td>\n      <td>-28.11</td>\n      <td>NaN</td>\n      <td>-0.88</td>\n      <td>NaN</td>\n      <td>0.06</td>\n      <td>NaN</td>\n      <td>NaN</td>\n      <td>NaN</td>\n      <td>NaN</td>\n      <td>...</td>\n      <td>NaN</td>\n      <td>NaN</td>\n      <td>NaN</td>\n      <td>NaN</td>\n      <td>NaN</td>\n      <td>NaN</td>\n      <td>NaN</td>\n      <td>NaN</td>\n      <td>NaN</td>\n      <td>NaN</td>\n    </tr>\n    <tr>\n      <th>1.75</th>\n      <td>45.74</td>\n      <td>NaN</td>\n      <td>-12.24</td>\n      <td>NaN</td>\n      <td>1.48</td>\n      <td>NaN</td>\n      <td>-0.06</td>\n      <td>NaN</td>\n      <td>NaN</td>\n      <td>NaN</td>\n      <td>...</td>\n      <td>NaN</td>\n      <td>NaN</td>\n      <td>NaN</td>\n      <td>NaN</td>\n      <td>NaN</td>\n      <td>NaN</td>\n      <td>NaN</td>\n      <td>NaN</td>\n      <td>NaN</td>\n      <td>NaN</td>\n    </tr>\n    <tr>\n      <th>2.00</th>\n      <td>NaN</td>\n      <td>-40.35</td>\n      <td>NaN</td>\n      <td>0.60</td>\n      <td>NaN</td>\n      <td>0.00</td>\n      <td>NaN</td>\n      <td>0.00</td>\n      <td>NaN</td>\n      <td>NaN</td>\n      <td>...</td>\n      <td>NaN</td>\n      <td>NaN</td>\n      <td>NaN</td>\n      <td>NaN</td>\n      <td>NaN</td>\n      <td>NaN</td>\n      <td>NaN</td>\n      <td>NaN</td>\n      <td>NaN</td>\n      <td>NaN</td>\n    </tr>\n    <tr>\n      <th>2.25</th>\n      <td>5.39</td>\n      <td>NaN</td>\n      <td>-11.64</td>\n      <td>NaN</td>\n      <td>1.48</td>\n      <td>NaN</td>\n      <td>-0.06</td>\n      <td>NaN</td>\n      <td>0.21</td>\n      <td>NaN</td>\n      <td>...</td>\n      <td>NaN</td>\n      <td>NaN</td>\n      <td>NaN</td>\n      <td>NaN</td>\n      <td>NaN</td>\n      <td>NaN</td>\n      <td>NaN</td>\n      <td>NaN</td>\n      <td>NaN</td>\n      <td>NaN</td>\n    </tr>\n    <tr>\n      <th>2.50</th>\n      <td>NaN</td>\n      <td>-51.99</td>\n      <td>NaN</td>\n      <td>2.08</td>\n      <td>NaN</td>\n      <td>-0.06</td>\n      <td>NaN</td>\n      <td>0.21</td>\n      <td>NaN</td>\n      <td>-0.74</td>\n      <td>...</td>\n      <td>NaN</td>\n      <td>NaN</td>\n      <td>NaN</td>\n      <td>NaN</td>\n      <td>NaN</td>\n      <td>NaN</td>\n      <td>NaN</td>\n      <td>NaN</td>\n      <td>NaN</td>\n      <td>NaN</td>\n    </tr>\n    <tr>\n      <th>2.75</th>\n      <td>-46.60</td>\n      <td>NaN</td>\n      <td>-9.56</td>\n      <td>NaN</td>\n      <td>1.42</td>\n      <td>NaN</td>\n      <td>0.15</td>\n      <td>NaN</td>\n      <td>-0.53</td>\n      <td>NaN</td>\n      <td>...</td>\n      <td>NaN</td>\n      <td>NaN</td>\n      <td>NaN</td>\n      <td>NaN</td>\n      <td>NaN</td>\n      <td>NaN</td>\n      <td>NaN</td>\n      <td>NaN</td>\n      <td>NaN</td>\n      <td>NaN</td>\n    </tr>\n    <tr>\n      <th>3.00</th>\n      <td>NaN</td>\n      <td>-61.55</td>\n      <td>NaN</td>\n      <td>3.50</td>\n      <td>NaN</td>\n      <td>0.09</td>\n      <td>NaN</td>\n      <td>-0.32</td>\n      <td>NaN</td>\n      <td>1.14</td>\n      <td>...</td>\n      <td>NaN</td>\n      <td>NaN</td>\n      <td>NaN</td>\n      <td>NaN</td>\n      <td>NaN</td>\n      <td>NaN</td>\n      <td>NaN</td>\n      <td>NaN</td>\n      <td>NaN</td>\n      <td>NaN</td>\n    </tr>\n    <tr>\n      <th>3.25</th>\n      <td>-108.15</td>\n      <td>NaN</td>\n      <td>-6.06</td>\n      <td>NaN</td>\n      <td>1.51</td>\n      <td>NaN</td>\n      <td>-0.17</td>\n      <td>NaN</td>\n      <td>0.61</td>\n      <td>NaN</td>\n      <td>...</td>\n      <td>NaN</td>\n      <td>NaN</td>\n      <td>NaN</td>\n      <td>NaN</td>\n      <td>NaN</td>\n      <td>NaN</td>\n      <td>NaN</td>\n      <td>NaN</td>\n      <td>NaN</td>\n      <td>NaN</td>\n    </tr>\n    <tr>\n      <th>3.50</th>\n      <td>NaN</td>\n      <td>-67.61</td>\n      <td>NaN</td>\n      <td>5.01</td>\n      <td>NaN</td>\n      <td>-0.08</td>\n      <td>NaN</td>\n      <td>0.29</td>\n      <td>NaN</td>\n      <td>-1.06</td>\n      <td>...</td>\n      <td>NaN</td>\n      <td>NaN</td>\n      <td>NaN</td>\n      <td>NaN</td>\n      <td>NaN</td>\n      <td>NaN</td>\n      <td>NaN</td>\n      <td>NaN</td>\n      <td>NaN</td>\n      <td>NaN</td>\n    </tr>\n    <tr>\n      <th>3.75</th>\n      <td>-175.76</td>\n      <td>NaN</td>\n      <td>-1.05</td>\n      <td>NaN</td>\n      <td>1.43</td>\n      <td>NaN</td>\n      <td>0.12</td>\n      <td>NaN</td>\n      <td>-0.45</td>\n      <td>NaN</td>\n      <td>...</td>\n      <td>NaN</td>\n      <td>NaN</td>\n      <td>NaN</td>\n      <td>NaN</td>\n      <td>NaN</td>\n      <td>NaN</td>\n      <td>NaN</td>\n      <td>NaN</td>\n      <td>NaN</td>\n      <td>NaN</td>\n    </tr>\n    <tr>\n      <th>4.00</th>\n      <td>NaN</td>\n      <td>-68.66</td>\n      <td>NaN</td>\n      <td>6.44</td>\n      <td>NaN</td>\n      <td>0.04</td>\n      <td>NaN</td>\n      <td>-0.16</td>\n      <td>NaN</td>\n      <td>0.63</td>\n      <td>...</td>\n      <td>NaN</td>\n      <td>NaN</td>\n      <td>NaN</td>\n      <td>NaN</td>\n      <td>NaN</td>\n      <td>NaN</td>\n      <td>NaN</td>\n      <td>NaN</td>\n      <td>NaN</td>\n      <td>NaN</td>\n    </tr>\n    <tr>\n      <th>4.25</th>\n      <td>-244.42</td>\n      <td>NaN</td>\n      <td>5.39</td>\n      <td>NaN</td>\n      <td>1.47</td>\n      <td>NaN</td>\n      <td>-0.04</td>\n      <td>NaN</td>\n      <td>0.18</td>\n      <td>NaN</td>\n      <td>...</td>\n      <td>NaN</td>\n      <td>NaN</td>\n      <td>NaN</td>\n      <td>NaN</td>\n      <td>NaN</td>\n      <td>NaN</td>\n      <td>NaN</td>\n      <td>NaN</td>\n      <td>NaN</td>\n      <td>NaN</td>\n    </tr>\n    <tr>\n      <th>4.50</th>\n      <td>NaN</td>\n      <td>-63.27</td>\n      <td>NaN</td>\n      <td>7.91</td>\n      <td>NaN</td>\n      <td>0.00</td>\n      <td>NaN</td>\n      <td>0.02</td>\n      <td>NaN</td>\n      <td>-0.30</td>\n      <td>...</td>\n      <td>NaN</td>\n      <td>NaN</td>\n      <td>NaN</td>\n      <td>NaN</td>\n      <td>NaN</td>\n      <td>NaN</td>\n      <td>NaN</td>\n      <td>NaN</td>\n      <td>NaN</td>\n      <td>NaN</td>\n    </tr>\n    <tr>\n      <th>4.75</th>\n      <td>-307.69</td>\n      <td>NaN</td>\n      <td>13.30</td>\n      <td>NaN</td>\n      <td>1.47</td>\n      <td>NaN</td>\n      <td>-0.02</td>\n      <td>NaN</td>\n      <td>-0.12</td>\n      <td>NaN</td>\n      <td>...</td>\n      <td>NaN</td>\n      <td>NaN</td>\n      <td>NaN</td>\n      <td>NaN</td>\n      <td>NaN</td>\n      <td>NaN</td>\n      <td>NaN</td>\n      <td>NaN</td>\n      <td>NaN</td>\n      <td>NaN</td>\n    </tr>\n    <tr>\n      <th>5.00</th>\n      <td>NaN</td>\n      <td>-49.97</td>\n      <td>NaN</td>\n      <td>9.38</td>\n      <td>NaN</td>\n      <td>-0.02</td>\n      <td>NaN</td>\n      <td>-0.10</td>\n      <td>NaN</td>\n      <td>0.54</td>\n      <td>...</td>\n      <td>NaN</td>\n      <td>NaN</td>\n      <td>NaN</td>\n      <td>NaN</td>\n      <td>NaN</td>\n      <td>NaN</td>\n      <td>NaN</td>\n      <td>NaN</td>\n      <td>NaN</td>\n      <td>NaN</td>\n    </tr>\n    <tr>\n      <th>5.25</th>\n      <td>-357.66</td>\n      <td>NaN</td>\n      <td>22.68</td>\n      <td>NaN</td>\n      <td>1.45</td>\n      <td>NaN</td>\n      <td>-0.12</td>\n      <td>NaN</td>\n      <td>0.42</td>\n      <td>NaN</td>\n      <td>...</td>\n      <td>NaN</td>\n      <td>NaN</td>\n      <td>NaN</td>\n      <td>NaN</td>\n      <td>NaN</td>\n      <td>NaN</td>\n      <td>NaN</td>\n      <td>NaN</td>\n      <td>NaN</td>\n      <td>NaN</td>\n    </tr>\n    <tr>\n      <th>5.50</th>\n      <td>NaN</td>\n      <td>-27.29</td>\n      <td>NaN</td>\n      <td>10.83</td>\n      <td>NaN</td>\n      <td>0.04</td>\n      <td>NaN</td>\n      <td>0.32</td>\n      <td>NaN</td>\n      <td>-1.19</td>\n      <td>...</td>\n      <td>NaN</td>\n      <td>NaN</td>\n      <td>NaN</td>\n      <td>NaN</td>\n      <td>NaN</td>\n      <td>NaN</td>\n      <td>NaN</td>\n      <td>NaN</td>\n      <td>NaN</td>\n      <td>NaN</td>\n    </tr>\n    <tr>\n      <th>5.75</th>\n      <td>-384.95</td>\n      <td>NaN</td>\n      <td>33.51</td>\n      <td>NaN</td>\n      <td>1.49</td>\n      <td>NaN</td>\n      <td>0.20</td>\n      <td>NaN</td>\n      <td>-0.77</td>\n      <td>NaN</td>\n      <td>...</td>\n      <td>NaN</td>\n      <td>NaN</td>\n      <td>NaN</td>\n      <td>NaN</td>\n      <td>NaN</td>\n      <td>NaN</td>\n      <td>NaN</td>\n      <td>NaN</td>\n      <td>NaN</td>\n      <td>NaN</td>\n    </tr>\n    <tr>\n      <th>6.00</th>\n      <td>NaN</td>\n      <td>6.22</td>\n      <td>NaN</td>\n      <td>12.32</td>\n      <td>NaN</td>\n      <td>-0.08</td>\n      <td>NaN</td>\n      <td>-0.45</td>\n      <td>NaN</td>\n      <td>1.70</td>\n      <td>...</td>\n      <td>NaN</td>\n      <td>NaN</td>\n      <td>NaN</td>\n      <td>NaN</td>\n      <td>NaN</td>\n      <td>NaN</td>\n      <td>NaN</td>\n      <td>NaN</td>\n      <td>NaN</td>\n      <td>NaN</td>\n    </tr>\n    <tr>\n      <th>6.25</th>\n      <td>-378.73</td>\n      <td>NaN</td>\n      <td>45.83</td>\n      <td>NaN</td>\n      <td>1.41</td>\n      <td>NaN</td>\n      <td>-0.25</td>\n      <td>NaN</td>\n      <td>0.93</td>\n      <td>NaN</td>\n      <td>...</td>\n      <td>NaN</td>\n      <td>NaN</td>\n      <td>NaN</td>\n      <td>NaN</td>\n      <td>NaN</td>\n      <td>NaN</td>\n      <td>NaN</td>\n      <td>NaN</td>\n      <td>NaN</td>\n      <td>NaN</td>\n    </tr>\n    <tr>\n      <th>6.50</th>\n      <td>NaN</td>\n      <td>52.05</td>\n      <td>NaN</td>\n      <td>13.73</td>\n      <td>NaN</td>\n      <td>0.12</td>\n      <td>NaN</td>\n      <td>0.48</td>\n      <td>NaN</td>\n      <td>-1.78</td>\n      <td>...</td>\n      <td>NaN</td>\n      <td>NaN</td>\n      <td>NaN</td>\n      <td>NaN</td>\n      <td>NaN</td>\n      <td>NaN</td>\n      <td>NaN</td>\n      <td>NaN</td>\n      <td>NaN</td>\n      <td>NaN</td>\n    </tr>\n    <tr>\n      <th>6.75</th>\n      <td>-326.68</td>\n      <td>NaN</td>\n      <td>59.56</td>\n      <td>NaN</td>\n      <td>1.53</td>\n      <td>NaN</td>\n      <td>0.23</td>\n      <td>NaN</td>\n      <td>-0.85</td>\n      <td>NaN</td>\n      <td>...</td>\n      <td>NaN</td>\n      <td>NaN</td>\n      <td>NaN</td>\n      <td>NaN</td>\n      <td>NaN</td>\n      <td>NaN</td>\n      <td>NaN</td>\n      <td>NaN</td>\n      <td>NaN</td>\n      <td>NaN</td>\n    </tr>\n    <tr>\n      <th>7.00</th>\n      <td>NaN</td>\n      <td>111.61</td>\n      <td>NaN</td>\n      <td>15.26</td>\n      <td>NaN</td>\n      <td>-0.13</td>\n      <td>NaN</td>\n      <td>-0.37</td>\n      <td>NaN</td>\n      <td>1.38</td>\n      <td>...</td>\n      <td>NaN</td>\n      <td>NaN</td>\n      <td>NaN</td>\n      <td>NaN</td>\n      <td>NaN</td>\n      <td>NaN</td>\n      <td>NaN</td>\n      <td>NaN</td>\n      <td>NaN</td>\n      <td>NaN</td>\n    </tr>\n    <tr>\n      <th>7.25</th>\n      <td>-215.07</td>\n      <td>NaN</td>\n      <td>74.82</td>\n      <td>NaN</td>\n      <td>1.40</td>\n      <td>NaN</td>\n      <td>-0.14</td>\n      <td>NaN</td>\n      <td>0.53</td>\n      <td>NaN</td>\n      <td>...</td>\n      <td>NaN</td>\n      <td>NaN</td>\n      <td>NaN</td>\n      <td>NaN</td>\n      <td>NaN</td>\n      <td>NaN</td>\n      <td>NaN</td>\n      <td>NaN</td>\n      <td>NaN</td>\n      <td>NaN</td>\n    </tr>\n    <tr>\n      <th>7.50</th>\n      <td>NaN</td>\n      <td>186.43</td>\n      <td>NaN</td>\n      <td>16.66</td>\n      <td>NaN</td>\n      <td>0.10</td>\n      <td>NaN</td>\n      <td>0.16</td>\n      <td>NaN</td>\n      <td>NaN</td>\n      <td>...</td>\n      <td>NaN</td>\n      <td>NaN</td>\n      <td>NaN</td>\n      <td>NaN</td>\n      <td>NaN</td>\n      <td>NaN</td>\n      <td>NaN</td>\n      <td>NaN</td>\n      <td>NaN</td>\n      <td>NaN</td>\n    </tr>\n    <tr>\n      <th>7.75</th>\n      <td>-28.64</td>\n      <td>NaN</td>\n      <td>91.48</td>\n      <td>NaN</td>\n      <td>1.50</td>\n      <td>NaN</td>\n      <td>0.02</td>\n      <td>NaN</td>\n      <td>NaN</td>\n      <td>NaN</td>\n      <td>...</td>\n      <td>NaN</td>\n      <td>NaN</td>\n      <td>NaN</td>\n      <td>NaN</td>\n      <td>NaN</td>\n      <td>NaN</td>\n      <td>NaN</td>\n      <td>NaN</td>\n      <td>NaN</td>\n      <td>NaN</td>\n    </tr>\n    <tr>\n      <th>8.00</th>\n      <td>NaN</td>\n      <td>277.91</td>\n      <td>NaN</td>\n      <td>18.16</td>\n      <td>NaN</td>\n      <td>-0.04</td>\n      <td>NaN</td>\n      <td>NaN</td>\n      <td>NaN</td>\n      <td>NaN</td>\n      <td>...</td>\n      <td>NaN</td>\n      <td>NaN</td>\n      <td>NaN</td>\n      <td>NaN</td>\n      <td>NaN</td>\n      <td>NaN</td>\n      <td>NaN</td>\n      <td>NaN</td>\n      <td>NaN</td>\n      <td>NaN</td>\n    </tr>\n    <tr>\n      <th>8.25</th>\n      <td>249.27</td>\n      <td>NaN</td>\n      <td>109.64</td>\n      <td>NaN</td>\n      <td>1.46</td>\n      <td>NaN</td>\n      <td>NaN</td>\n      <td>NaN</td>\n      <td>NaN</td>\n      <td>NaN</td>\n      <td>...</td>\n      <td>NaN</td>\n      <td>NaN</td>\n      <td>NaN</td>\n      <td>NaN</td>\n      <td>NaN</td>\n      <td>NaN</td>\n      <td>NaN</td>\n      <td>NaN</td>\n      <td>NaN</td>\n      <td>NaN</td>\n    </tr>\n    <tr>\n      <th>8.50</th>\n      <td>NaN</td>\n      <td>387.55</td>\n      <td>NaN</td>\n      <td>19.62</td>\n      <td>NaN</td>\n      <td>-0.02</td>\n      <td>NaN</td>\n      <td>NaN</td>\n      <td>NaN</td>\n      <td>NaN</td>\n      <td>...</td>\n      <td>NaN</td>\n      <td>NaN</td>\n      <td>NaN</td>\n      <td>NaN</td>\n      <td>NaN</td>\n      <td>NaN</td>\n      <td>NaN</td>\n      <td>NaN</td>\n      <td>NaN</td>\n      <td>NaN</td>\n    </tr>\n    <tr>\n      <th>8.75</th>\n      <td>636.82</td>\n      <td>NaN</td>\n      <td>129.26</td>\n      <td>NaN</td>\n      <td>1.44</td>\n      <td>NaN</td>\n      <td>NaN</td>\n      <td>NaN</td>\n      <td>NaN</td>\n      <td>NaN</td>\n      <td>...</td>\n      <td>NaN</td>\n      <td>NaN</td>\n      <td>NaN</td>\n      <td>NaN</td>\n      <td>NaN</td>\n      <td>NaN</td>\n      <td>NaN</td>\n      <td>NaN</td>\n      <td>NaN</td>\n      <td>NaN</td>\n    </tr>\n    <tr>\n      <th>9.00</th>\n      <td>NaN</td>\n      <td>516.81</td>\n      <td>NaN</td>\n      <td>21.06</td>\n      <td>NaN</td>\n      <td>NaN</td>\n      <td>NaN</td>\n      <td>NaN</td>\n      <td>NaN</td>\n      <td>NaN</td>\n      <td>...</td>\n      <td>NaN</td>\n      <td>NaN</td>\n      <td>NaN</td>\n      <td>NaN</td>\n      <td>NaN</td>\n      <td>NaN</td>\n      <td>NaN</td>\n      <td>NaN</td>\n      <td>NaN</td>\n      <td>NaN</td>\n    </tr>\n    <tr>\n      <th>9.25</th>\n      <td>1153.63</td>\n      <td>NaN</td>\n      <td>150.32</td>\n      <td>NaN</td>\n      <td>NaN</td>\n      <td>NaN</td>\n      <td>NaN</td>\n      <td>NaN</td>\n      <td>NaN</td>\n      <td>NaN</td>\n      <td>...</td>\n      <td>NaN</td>\n      <td>NaN</td>\n      <td>NaN</td>\n      <td>NaN</td>\n      <td>NaN</td>\n      <td>NaN</td>\n      <td>NaN</td>\n      <td>NaN</td>\n      <td>NaN</td>\n      <td>NaN</td>\n    </tr>\n    <tr>\n      <th>9.50</th>\n      <td>NaN</td>\n      <td>667.13</td>\n      <td>NaN</td>\n      <td>NaN</td>\n      <td>NaN</td>\n      <td>NaN</td>\n      <td>NaN</td>\n      <td>NaN</td>\n      <td>NaN</td>\n      <td>NaN</td>\n      <td>...</td>\n      <td>NaN</td>\n      <td>NaN</td>\n      <td>NaN</td>\n      <td>NaN</td>\n      <td>NaN</td>\n      <td>NaN</td>\n      <td>NaN</td>\n      <td>NaN</td>\n      <td>NaN</td>\n      <td>NaN</td>\n    </tr>\n    <tr>\n      <th>9.75</th>\n      <td>1820.76</td>\n      <td>NaN</td>\n      <td>NaN</td>\n      <td>NaN</td>\n      <td>NaN</td>\n      <td>NaN</td>\n      <td>NaN</td>\n      <td>NaN</td>\n      <td>NaN</td>\n      <td>NaN</td>\n      <td>...</td>\n      <td>NaN</td>\n      <td>NaN</td>\n      <td>NaN</td>\n      <td>NaN</td>\n      <td>NaN</td>\n      <td>NaN</td>\n      <td>NaN</td>\n      <td>NaN</td>\n      <td>NaN</td>\n      <td>NaN</td>\n    </tr>\n    <tr>\n      <th>10.00</th>\n      <td>NaN</td>\n      <td>NaN</td>\n      <td>NaN</td>\n      <td>NaN</td>\n      <td>NaN</td>\n      <td>NaN</td>\n      <td>NaN</td>\n      <td>NaN</td>\n      <td>NaN</td>\n      <td>NaN</td>\n      <td>...</td>\n      <td>NaN</td>\n      <td>NaN</td>\n      <td>NaN</td>\n      <td>NaN</td>\n      <td>NaN</td>\n      <td>NaN</td>\n      <td>NaN</td>\n      <td>NaN</td>\n      <td>NaN</td>\n      <td>NaN</td>\n    </tr>\n  </tbody>\n</table>\n<p>41 rows × 41 columns</p>\n</div>"
     },
     "metadata": {},
     "output_type": "display_data"
    }
   ],
   "source": [
    "import pandas as pd\n",
    "from IPython.display import display\n",
    "\n",
    "central_columns = columns\n",
    "#central_columns.insert(0, coords[:, 1])\n",
    "\n",
    "new_table = np.empty((len(central_x), len(central_x)))\n",
    "new_table[:] = np.nan\n",
    "\n",
    "df = pd.DataFrame(new_table, index=central_x)\n",
    "\n",
    "# Update DataFrame based on elements in columns list\n",
    "for col_index, column in enumerate(central_columns):\n",
    "    for i, val in enumerate(range(col_index+1, len(df), 2)):\n",
    "        try:\n",
    "            df.iloc[val, col_index] = column[i]\n",
    "        except IndexError:\n",
    "            pass\n",
    "\n",
    "\n",
    "display(df)"
   ],
   "metadata": {
    "collapsed": false
   }
  },
  {
   "cell_type": "markdown",
   "source": [
    "### Obliczanie zgodnie ze wzorem:\n",
    "\n",
    "![alt text](./assets/images/4.png \"Title\")\n",
    "![alt text](./assets/images/5.png \"Title\")"
   ],
   "metadata": {
    "collapsed": false
   }
  },
  {
   "cell_type": "code",
   "execution_count": 106,
   "outputs": [
    {
     "name": "stdout",
     "output_type": "stream",
     "text": [
      "Pochodna w punkcie 0.0:  nan\n",
      "Pochodna w punkcie 0.5:  188.89\n",
      "Pochodna w punkcie 1.0:  167.85333333333332\n",
      "Pochodna w punkcie 1.5:  123.62\n",
      "Pochodna w punkcie 2.0:  55.20952380952381\n",
      "Pochodna w punkcie 2.5:  -37.58102380952381\n",
      "Pochodna w punkcie 3.0:  -152.0484542124542\n",
      "Pochodna w punkcie 3.5:  -282.62503794570404\n",
      "Pochodna w punkcie 4.0:  -420.81226967987106\n",
      "Pochodna w punkcie 4.5:  -555.1268895016799\n",
      "Pochodna w punkcie 5.0:  -671.2395708266474\n",
      "Pochodna w punkcie 5.5:  -751.8872287266308\n",
      "Pochodna w punkcie 6.0:  -776.8042732589141\n",
      "Pochodna w punkcie 6.5:  -722.8764542124544\n",
      "Pochodna w punkcie 7.0:  -564.0500238095239\n",
      "Pochodna w punkcie 7.5:  -271.3291428571428\n",
      "Pochodna w punkcie 8.0:  187.2086666666667\n",
      "Pochodna w punkcie 8.5:  846.37\n",
      "Pochodna w punkcie 9.0:  1743.8533333333337\n",
      "Pochodna w punkcie 9.5:  2974.3900000000003\n",
      "Pochodna w punkcie 10.0:  nan\n"
     ]
    }
   ],
   "source": [
    "import math\n",
    "\n",
    "def calculate_derivative_at_point_central_method(row_index: float):\n",
    "    step_size = 0.25\n",
    "    try:\n",
    "        row_before = df.loc[row_index - step_size]\n",
    "        row_after = df.loc[row_index + step_size]\n",
    "    except KeyError:\n",
    "        return np.nan\n",
    "\n",
    "\n",
    "    #all values with nans from rows before and after\n",
    "    zipped_values = (list(zip(row_after, row_before)))\n",
    "\n",
    "    #only numeric values from lists\n",
    "    filtered_list = [item for item in zipped_values if not any(math.isnan(val) for val in item)]\n",
    "\n",
    "    # Calculate the sum of each pair\n",
    "    sum_list = [sum(pair)/2 for pair in filtered_list]\n",
    "\n",
    "    wstawki = [1/1, -1/6, 1/30, -1/140, 1/840, -1/1040, 1/1580, -1/2180, 1/22680, -1/22680]\n",
    "    # Multiply each sum by according element of wstawki\n",
    "    sum_list = [sum_list[i] * wstawki[i] for i in range(len(sum_list))]\n",
    "\n",
    "    #final sum\n",
    "    final_sum = sum(sum_list) * 1/h\n",
    "    return final_sum\n",
    "\n",
    "for x in xi:\n",
    "    print(f'Pochodna w punkcie {x}: ', calculate_derivative_at_point_central_method(x))"
   ],
   "metadata": {
    "collapsed": false
   }
  },
  {
   "cell_type": "markdown",
   "source": [
    "## Porównanie wyników"
   ],
   "metadata": {
    "collapsed": false
   }
  },
  {
   "cell_type": "code",
   "execution_count": 107,
   "outputs": [
    {
     "data": {
      "text/plain": "       x     Pochodna\n0    0.0   283.520436\n1    0.5   145.686439\n2    1.0   194.382933\n3    1.5   107.494419\n4    2.0    65.359976\n5    2.5   -43.991315\n6    3.0  -148.082721\n7    3.5  -284.991791\n8    4.0  -419.519812\n9    4.5  -555.738651\n10   5.0  -671.050008\n11   5.5  -751.856333\n12   6.0  -776.900952\n13   6.5  -722.806667\n14   7.0  -564.072667\n15   7.5  -271.330667\n16   8.0   186.633333\n17   8.5   857.043333\n18   9.0  1640.130000\n19   9.5  3641.520000\n20  10.0     0.000000",
      "text/html": "<div>\n<style scoped>\n    .dataframe tbody tr th:only-of-type {\n        vertical-align: middle;\n    }\n\n    .dataframe tbody tr th {\n        vertical-align: top;\n    }\n\n    .dataframe thead th {\n        text-align: right;\n    }\n</style>\n<table border=\"1\" class=\"dataframe\">\n  <thead>\n    <tr style=\"text-align: right;\">\n      <th></th>\n      <th>x</th>\n      <th>Pochodna</th>\n    </tr>\n  </thead>\n  <tbody>\n    <tr>\n      <th>0</th>\n      <td>0.0</td>\n      <td>283.520436</td>\n    </tr>\n    <tr>\n      <th>1</th>\n      <td>0.5</td>\n      <td>145.686439</td>\n    </tr>\n    <tr>\n      <th>2</th>\n      <td>1.0</td>\n      <td>194.382933</td>\n    </tr>\n    <tr>\n      <th>3</th>\n      <td>1.5</td>\n      <td>107.494419</td>\n    </tr>\n    <tr>\n      <th>4</th>\n      <td>2.0</td>\n      <td>65.359976</td>\n    </tr>\n    <tr>\n      <th>5</th>\n      <td>2.5</td>\n      <td>-43.991315</td>\n    </tr>\n    <tr>\n      <th>6</th>\n      <td>3.0</td>\n      <td>-148.082721</td>\n    </tr>\n    <tr>\n      <th>7</th>\n      <td>3.5</td>\n      <td>-284.991791</td>\n    </tr>\n    <tr>\n      <th>8</th>\n      <td>4.0</td>\n      <td>-419.519812</td>\n    </tr>\n    <tr>\n      <th>9</th>\n      <td>4.5</td>\n      <td>-555.738651</td>\n    </tr>\n    <tr>\n      <th>10</th>\n      <td>5.0</td>\n      <td>-671.050008</td>\n    </tr>\n    <tr>\n      <th>11</th>\n      <td>5.5</td>\n      <td>-751.856333</td>\n    </tr>\n    <tr>\n      <th>12</th>\n      <td>6.0</td>\n      <td>-776.900952</td>\n    </tr>\n    <tr>\n      <th>13</th>\n      <td>6.5</td>\n      <td>-722.806667</td>\n    </tr>\n    <tr>\n      <th>14</th>\n      <td>7.0</td>\n      <td>-564.072667</td>\n    </tr>\n    <tr>\n      <th>15</th>\n      <td>7.5</td>\n      <td>-271.330667</td>\n    </tr>\n    <tr>\n      <th>16</th>\n      <td>8.0</td>\n      <td>186.633333</td>\n    </tr>\n    <tr>\n      <th>17</th>\n      <td>8.5</td>\n      <td>857.043333</td>\n    </tr>\n    <tr>\n      <th>18</th>\n      <td>9.0</td>\n      <td>1640.130000</td>\n    </tr>\n    <tr>\n      <th>19</th>\n      <td>9.5</td>\n      <td>3641.520000</td>\n    </tr>\n    <tr>\n      <th>20</th>\n      <td>10.0</td>\n      <td>0.000000</td>\n    </tr>\n  </tbody>\n</table>\n</div>"
     },
     "metadata": {},
     "output_type": "display_data"
    },
    {
     "data": {
      "text/plain": "       x     Pochodna\n0    0.0     0.000000\n1    0.5   196.580000\n2    1.0   173.510000\n3    1.5   124.910000\n4    2.0    54.646667\n5    2.5   -37.602000\n6    3.0  -152.058000\n7    3.5  -282.571333\n8    4.0  -420.869143\n9    4.5  -554.997786\n10   5.0  -671.496016\n11   5.5  -751.445992\n12   6.0  -777.499792\n13   6.5  -721.851684\n14   7.0  -565.412349\n15   7.5  -269.844563\n16   8.0   186.439973\n17   8.5   844.013223\n18   9.0  1755.506739\n19   9.5  2885.761661\n20  10.0  4508.922608",
      "text/html": "<div>\n<style scoped>\n    .dataframe tbody tr th:only-of-type {\n        vertical-align: middle;\n    }\n\n    .dataframe tbody tr th {\n        vertical-align: top;\n    }\n\n    .dataframe thead th {\n        text-align: right;\n    }\n</style>\n<table border=\"1\" class=\"dataframe\">\n  <thead>\n    <tr style=\"text-align: right;\">\n      <th></th>\n      <th>x</th>\n      <th>Pochodna</th>\n    </tr>\n  </thead>\n  <tbody>\n    <tr>\n      <th>0</th>\n      <td>0.0</td>\n      <td>0.000000</td>\n    </tr>\n    <tr>\n      <th>1</th>\n      <td>0.5</td>\n      <td>196.580000</td>\n    </tr>\n    <tr>\n      <th>2</th>\n      <td>1.0</td>\n      <td>173.510000</td>\n    </tr>\n    <tr>\n      <th>3</th>\n      <td>1.5</td>\n      <td>124.910000</td>\n    </tr>\n    <tr>\n      <th>4</th>\n      <td>2.0</td>\n      <td>54.646667</td>\n    </tr>\n    <tr>\n      <th>5</th>\n      <td>2.5</td>\n      <td>-37.602000</td>\n    </tr>\n    <tr>\n      <th>6</th>\n      <td>3.0</td>\n      <td>-152.058000</td>\n    </tr>\n    <tr>\n      <th>7</th>\n      <td>3.5</td>\n      <td>-282.571333</td>\n    </tr>\n    <tr>\n      <th>8</th>\n      <td>4.0</td>\n      <td>-420.869143</td>\n    </tr>\n    <tr>\n      <th>9</th>\n      <td>4.5</td>\n      <td>-554.997786</td>\n    </tr>\n    <tr>\n      <th>10</th>\n      <td>5.0</td>\n      <td>-671.496016</td>\n    </tr>\n    <tr>\n      <th>11</th>\n      <td>5.5</td>\n      <td>-751.445992</td>\n    </tr>\n    <tr>\n      <th>12</th>\n      <td>6.0</td>\n      <td>-777.499792</td>\n    </tr>\n    <tr>\n      <th>13</th>\n      <td>6.5</td>\n      <td>-721.851684</td>\n    </tr>\n    <tr>\n      <th>14</th>\n      <td>7.0</td>\n      <td>-565.412349</td>\n    </tr>\n    <tr>\n      <th>15</th>\n      <td>7.5</td>\n      <td>-269.844563</td>\n    </tr>\n    <tr>\n      <th>16</th>\n      <td>8.0</td>\n      <td>186.439973</td>\n    </tr>\n    <tr>\n      <th>17</th>\n      <td>8.5</td>\n      <td>844.013223</td>\n    </tr>\n    <tr>\n      <th>18</th>\n      <td>9.0</td>\n      <td>1755.506739</td>\n    </tr>\n    <tr>\n      <th>19</th>\n      <td>9.5</td>\n      <td>2885.761661</td>\n    </tr>\n    <tr>\n      <th>20</th>\n      <td>10.0</td>\n      <td>4508.922608</td>\n    </tr>\n  </tbody>\n</table>\n</div>"
     },
     "metadata": {},
     "output_type": "display_data"
    },
    {
     "data": {
      "text/plain": "      x     Pochodna\n1   0.5   188.890000\n2   1.0   167.853333\n3   1.5   123.620000\n4   2.0    55.209524\n5   2.5   -37.581024\n6   3.0  -152.048454\n7   3.5  -282.625038\n8   4.0  -420.812270\n9   4.5  -555.126890\n10  5.0  -671.239571\n11  5.5  -751.887229\n12  6.0  -776.804273\n13  6.5  -722.876454\n14  7.0  -564.050024\n15  7.5  -271.329143\n16  8.0   187.208667\n17  8.5   846.370000\n18  9.0  1743.853333\n19  9.5  2974.390000",
      "text/html": "<div>\n<style scoped>\n    .dataframe tbody tr th:only-of-type {\n        vertical-align: middle;\n    }\n\n    .dataframe tbody tr th {\n        vertical-align: top;\n    }\n\n    .dataframe thead th {\n        text-align: right;\n    }\n</style>\n<table border=\"1\" class=\"dataframe\">\n  <thead>\n    <tr style=\"text-align: right;\">\n      <th></th>\n      <th>x</th>\n      <th>Pochodna</th>\n    </tr>\n  </thead>\n  <tbody>\n    <tr>\n      <th>1</th>\n      <td>0.5</td>\n      <td>188.890000</td>\n    </tr>\n    <tr>\n      <th>2</th>\n      <td>1.0</td>\n      <td>167.853333</td>\n    </tr>\n    <tr>\n      <th>3</th>\n      <td>1.5</td>\n      <td>123.620000</td>\n    </tr>\n    <tr>\n      <th>4</th>\n      <td>2.0</td>\n      <td>55.209524</td>\n    </tr>\n    <tr>\n      <th>5</th>\n      <td>2.5</td>\n      <td>-37.581024</td>\n    </tr>\n    <tr>\n      <th>6</th>\n      <td>3.0</td>\n      <td>-152.048454</td>\n    </tr>\n    <tr>\n      <th>7</th>\n      <td>3.5</td>\n      <td>-282.625038</td>\n    </tr>\n    <tr>\n      <th>8</th>\n      <td>4.0</td>\n      <td>-420.812270</td>\n    </tr>\n    <tr>\n      <th>9</th>\n      <td>4.5</td>\n      <td>-555.126890</td>\n    </tr>\n    <tr>\n      <th>10</th>\n      <td>5.0</td>\n      <td>-671.239571</td>\n    </tr>\n    <tr>\n      <th>11</th>\n      <td>5.5</td>\n      <td>-751.887229</td>\n    </tr>\n    <tr>\n      <th>12</th>\n      <td>6.0</td>\n      <td>-776.804273</td>\n    </tr>\n    <tr>\n      <th>13</th>\n      <td>6.5</td>\n      <td>-722.876454</td>\n    </tr>\n    <tr>\n      <th>14</th>\n      <td>7.0</td>\n      <td>-564.050024</td>\n    </tr>\n    <tr>\n      <th>15</th>\n      <td>7.5</td>\n      <td>-271.329143</td>\n    </tr>\n    <tr>\n      <th>16</th>\n      <td>8.0</td>\n      <td>187.208667</td>\n    </tr>\n    <tr>\n      <th>17</th>\n      <td>8.5</td>\n      <td>846.370000</td>\n    </tr>\n    <tr>\n      <th>18</th>\n      <td>9.0</td>\n      <td>1743.853333</td>\n    </tr>\n    <tr>\n      <th>19</th>\n      <td>9.5</td>\n      <td>2974.390000</td>\n    </tr>\n  </tbody>\n</table>\n</div>"
     },
     "metadata": {},
     "output_type": "display_data"
    }
   ],
   "source": [
    "roznice_zwykle = np.array([0,0])\n",
    "for x in xi:\n",
    "    roznice_zwykle = np.vstack((roznice_zwykle, (x, calculate_derivative_at_point(columns, x))))\n",
    "roznice_zwykle = np.delete(roznice_zwykle, 0, 0)\n",
    "\n",
    "roznice_wsteczne =  np.array([0,0])\n",
    "for x in xi:\n",
    "    roznice_wsteczne = np.vstack((roznice_wsteczne, (x, calculate_derivative_at_point_reverse(columns_reverse, x))))\n",
    "roznice_wsteczne = np.delete(roznice_wsteczne, 0, 0)\n",
    "\n",
    "roznice_centralne = np.array([0,0])\n",
    "for x in xi:\n",
    "    roznice_centralne = np.vstack((roznice_centralne, (x, calculate_derivative_at_point_central_method(x))))\n",
    "roznice_centralne = np.delete(roznice_centralne, 0, 0)\n",
    "\n",
    "pd_roznice_zwykle = pd.DataFrame(roznice_zwykle, columns=['x', 'Pochodna'])\n",
    "pd_roznice_wsteczne = pd.DataFrame(roznice_wsteczne, columns=['x', 'Pochodna'])\n",
    "pd_roznice_centralne = pd.DataFrame(roznice_centralne, columns=['x', 'Pochodna'])\n",
    "pd_roznice_centralne = pd_roznice_centralne.dropna()\n",
    "\n",
    "display(pd_roznice_zwykle)\n",
    "display(pd_roznice_wsteczne)\n",
    "display(pd_roznice_centralne)"
   ],
   "metadata": {
    "collapsed": false
   }
  },
  {
   "cell_type": "code",
   "execution_count": 108,
   "outputs": [
    {
     "data": {
      "text/plain": "<Figure size 640x480 with 1 Axes>",
      "image/png": "[encoded data removed]"
     },
     "metadata": {},
     "output_type": "display_data"
    }
   ],
   "source": [
    "import matplotlib.pyplot as plt\n",
    "\n",
    "plt.plot(pd_roznice_zwykle['x'], pd_roznice_zwykle['Pochodna'], label='Zwykła')\n",
    "plt.plot(pd_roznice_wsteczne['x'], pd_roznice_wsteczne['Pochodna'], label='Wsteczna')\n",
    "plt.plot(pd_roznice_centralne['x'], pd_roznice_centralne['Pochodna'], label='Centralna')\n",
    "\n",
    "plt.legend()\n",
    "plt.grid()\n",
    "plt.show()\n"
   ],
   "metadata": {
    "collapsed": false
   }
  },
  {
   "cell_type": "markdown",
   "source": [],
   "metadata": {
    "collapsed": false
   }
  }
 ],
 "metadata": {
  "kernelspec": {
   "display_name": "Python 3",
   "language": "python",
   "name": "python3"
  },
  "language_info": {
   "codemirror_mode": {
    "name": "ipython",
    "version": 2
   },
   "file_extension": ".py",
   "mimetype": "text/x-python",
   "name": "python",
   "nbconvert_exporter": "python",
   "pygments_lexer": "ipython2",
   "version": "2.7.6"
  }
 },
 "nbformat": 4,
 "nbformat_minor": 0
}
